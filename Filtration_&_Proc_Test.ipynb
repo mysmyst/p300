{
  "nbformat": 4,
  "nbformat_minor": 0,
  "metadata": {
    "colab": {
      "name": "Filtration & Proc Test.ipynb",
      "provenance": [],
      "collapsed_sections": [
        "VyOkBKIoLi50",
        "BTs_vwC6L1Fb",
        "Kxp0mwXgOG59",
        "oEEZkog_Qkjy",
        "Jshj6QcCbkid",
        "c-nKwNL8pB4N"
      ],
      "authorship_tag": "ABX9TyMUt4Y/0KEc7RSsgMKnzVds",
      "include_colab_link": true
    },
    "kernelspec": {
      "name": "python3",
      "display_name": "Python 3"
    },
    "language_info": {
      "name": "python"
    }
  },
  "cells": [
    {
      "cell_type": "markdown",
      "metadata": {
        "id": "view-in-github",
        "colab_type": "text"
      },
      "source": [
        "<a href=\"https://colab.research.google.com/github/mysmyst/p300/blob/main/Filtration_%26_Proc_Test.ipynb\" target=\"_parent\"><img src=\"https://colab.research.google.com/assets/colab-badge.svg\" alt=\"Open In Colab\"/></a>"
      ]
    },
    {
      "cell_type": "markdown",
      "source": [
        "Notebook Comparing and Testing Filterting approaches, Time Windows and Channel Selection methods"
      ],
      "metadata": {
        "id": "nf3fyGFGk4WZ"
      }
    },
    {
      "cell_type": "markdown",
      "source": [
        "# 1 Imports"
      ],
      "metadata": {
        "id": "VyOkBKIoLi50"
      }
    },
    {
      "cell_type": "code",
      "execution_count": 1,
      "metadata": {
        "colab": {
          "base_uri": "https://localhost:8080/"
        },
        "id": "VFNXYNWbLPaC",
        "outputId": "1bfd19f5-9e84-4123-fd13-c1eb44df384c"
      },
      "outputs": [
        {
          "output_type": "stream",
          "name": "stdout",
          "text": [
            "Drive already mounted at /content/drive; to attempt to forcibly remount, call drive.mount(\"/content/drive\", force_remount=True).\n"
          ]
        }
      ],
      "source": [
        "from google.colab import drive\n",
        "drive.mount('/content/drive')"
      ]
    },
    {
      "cell_type": "code",
      "source": [
        "!pip install mne\n",
        "!pip install numexpr\n",
        "!pip install python-picard\n",
        "!pip install imbalanced-learn\n",
        "!pip install PyWavelets\n",
        "!pip install mne-features"
      ],
      "metadata": {
        "colab": {
          "base_uri": "https://localhost:8080/"
        },
        "id": "vK5KM27xLka7",
        "outputId": "3af8c584-a454-475f-eece-43677533830e"
      },
      "execution_count": 2,
      "outputs": [
        {
          "output_type": "stream",
          "name": "stdout",
          "text": [
            "Looking in indexes: https://pypi.org/simple, https://us-python.pkg.dev/colab-wheels/public/simple/\n",
            "Requirement already satisfied: mne in /usr/local/lib/python3.7/dist-packages (1.0.3)\n",
            "Requirement already satisfied: matplotlib in /usr/local/lib/python3.7/dist-packages (from mne) (3.2.2)\n",
            "Requirement already satisfied: scipy>=1.1.0 in /usr/local/lib/python3.7/dist-packages (from mne) (1.4.1)\n",
            "Requirement already satisfied: packaging in /usr/local/lib/python3.7/dist-packages (from mne) (21.3)\n",
            "Requirement already satisfied: numpy>=1.15.4 in /usr/local/lib/python3.7/dist-packages (from mne) (1.21.6)\n",
            "Requirement already satisfied: decorator in /usr/local/lib/python3.7/dist-packages (from mne) (4.4.2)\n",
            "Requirement already satisfied: tqdm in /usr/local/lib/python3.7/dist-packages (from mne) (4.64.0)\n",
            "Requirement already satisfied: pooch>=1.5 in /usr/local/lib/python3.7/dist-packages (from mne) (1.6.0)\n",
            "Requirement already satisfied: jinja2 in /usr/local/lib/python3.7/dist-packages (from mne) (2.11.3)\n",
            "Requirement already satisfied: requests>=2.19.0 in /usr/local/lib/python3.7/dist-packages (from pooch>=1.5->mne) (2.23.0)\n",
            "Requirement already satisfied: appdirs>=1.3.0 in /usr/local/lib/python3.7/dist-packages (from pooch>=1.5->mne) (1.4.4)\n",
            "Requirement already satisfied: pyparsing!=3.0.5,>=2.0.2 in /usr/local/lib/python3.7/dist-packages (from packaging->mne) (3.0.9)\n",
            "Requirement already satisfied: certifi>=2017.4.17 in /usr/local/lib/python3.7/dist-packages (from requests>=2.19.0->pooch>=1.5->mne) (2022.6.15)\n",
            "Requirement already satisfied: chardet<4,>=3.0.2 in /usr/local/lib/python3.7/dist-packages (from requests>=2.19.0->pooch>=1.5->mne) (3.0.4)\n",
            "Requirement already satisfied: idna<3,>=2.5 in /usr/local/lib/python3.7/dist-packages (from requests>=2.19.0->pooch>=1.5->mne) (2.10)\n",
            "Requirement already satisfied: urllib3!=1.25.0,!=1.25.1,<1.26,>=1.21.1 in /usr/local/lib/python3.7/dist-packages (from requests>=2.19.0->pooch>=1.5->mne) (1.24.3)\n",
            "Requirement already satisfied: MarkupSafe>=0.23 in /usr/local/lib/python3.7/dist-packages (from jinja2->mne) (2.0.1)\n",
            "Requirement already satisfied: kiwisolver>=1.0.1 in /usr/local/lib/python3.7/dist-packages (from matplotlib->mne) (1.4.3)\n",
            "Requirement already satisfied: cycler>=0.10 in /usr/local/lib/python3.7/dist-packages (from matplotlib->mne) (0.11.0)\n",
            "Requirement already satisfied: python-dateutil>=2.1 in /usr/local/lib/python3.7/dist-packages (from matplotlib->mne) (2.8.2)\n",
            "Requirement already satisfied: typing-extensions in /usr/local/lib/python3.7/dist-packages (from kiwisolver>=1.0.1->matplotlib->mne) (4.1.1)\n",
            "Requirement already satisfied: six>=1.5 in /usr/local/lib/python3.7/dist-packages (from python-dateutil>=2.1->matplotlib->mne) (1.15.0)\n",
            "Looking in indexes: https://pypi.org/simple, https://us-python.pkg.dev/colab-wheels/public/simple/\n",
            "Requirement already satisfied: numexpr in /usr/local/lib/python3.7/dist-packages (2.8.1)\n",
            "Requirement already satisfied: numpy>=1.13.3 in /usr/local/lib/python3.7/dist-packages (from numexpr) (1.21.6)\n",
            "Requirement already satisfied: packaging in /usr/local/lib/python3.7/dist-packages (from numexpr) (21.3)\n",
            "Requirement already satisfied: pyparsing!=3.0.5,>=2.0.2 in /usr/local/lib/python3.7/dist-packages (from packaging->numexpr) (3.0.9)\n",
            "Looking in indexes: https://pypi.org/simple, https://us-python.pkg.dev/colab-wheels/public/simple/\n",
            "Requirement already satisfied: python-picard in /usr/local/lib/python3.7/dist-packages (0.7)\n",
            "Requirement already satisfied: scipy in /usr/local/lib/python3.7/dist-packages (from python-picard) (1.4.1)\n",
            "Requirement already satisfied: numpy in /usr/local/lib/python3.7/dist-packages (from python-picard) (1.21.6)\n",
            "Requirement already satisfied: scikit-learn in /usr/local/lib/python3.7/dist-packages (from python-picard) (1.0.2)\n",
            "Requirement already satisfied: numexpr in /usr/local/lib/python3.7/dist-packages (from python-picard) (2.8.1)\n",
            "Requirement already satisfied: packaging in /usr/local/lib/python3.7/dist-packages (from numexpr->python-picard) (21.3)\n",
            "Requirement already satisfied: pyparsing!=3.0.5,>=2.0.2 in /usr/local/lib/python3.7/dist-packages (from packaging->numexpr->python-picard) (3.0.9)\n",
            "Requirement already satisfied: threadpoolctl>=2.0.0 in /usr/local/lib/python3.7/dist-packages (from scikit-learn->python-picard) (3.1.0)\n",
            "Requirement already satisfied: joblib>=0.11 in /usr/local/lib/python3.7/dist-packages (from scikit-learn->python-picard) (1.1.0)\n",
            "Looking in indexes: https://pypi.org/simple, https://us-python.pkg.dev/colab-wheels/public/simple/\n",
            "Requirement already satisfied: imbalanced-learn in /usr/local/lib/python3.7/dist-packages (0.8.1)\n",
            "Requirement already satisfied: scipy>=0.19.1 in /usr/local/lib/python3.7/dist-packages (from imbalanced-learn) (1.4.1)\n",
            "Requirement already satisfied: numpy>=1.13.3 in /usr/local/lib/python3.7/dist-packages (from imbalanced-learn) (1.21.6)\n",
            "Requirement already satisfied: joblib>=0.11 in /usr/local/lib/python3.7/dist-packages (from imbalanced-learn) (1.1.0)\n",
            "Requirement already satisfied: scikit-learn>=0.24 in /usr/local/lib/python3.7/dist-packages (from imbalanced-learn) (1.0.2)\n",
            "Requirement already satisfied: threadpoolctl>=2.0.0 in /usr/local/lib/python3.7/dist-packages (from scikit-learn>=0.24->imbalanced-learn) (3.1.0)\n",
            "Looking in indexes: https://pypi.org/simple, https://us-python.pkg.dev/colab-wheels/public/simple/\n",
            "Requirement already satisfied: PyWavelets in /usr/local/lib/python3.7/dist-packages (1.3.0)\n",
            "Requirement already satisfied: numpy>=1.17.3 in /usr/local/lib/python3.7/dist-packages (from PyWavelets) (1.21.6)\n",
            "Looking in indexes: https://pypi.org/simple, https://us-python.pkg.dev/colab-wheels/public/simple/\n",
            "Requirement already satisfied: mne-features in /usr/local/lib/python3.7/dist-packages (0.2)\n",
            "Requirement already satisfied: scikit-learn in /usr/local/lib/python3.7/dist-packages (from mne-features) (1.0.2)\n",
            "Requirement already satisfied: pandas in /usr/local/lib/python3.7/dist-packages (from mne-features) (1.3.5)\n",
            "Requirement already satisfied: PyWavelets in /usr/local/lib/python3.7/dist-packages (from mne-features) (1.3.0)\n",
            "Requirement already satisfied: scipy in /usr/local/lib/python3.7/dist-packages (from mne-features) (1.4.1)\n",
            "Requirement already satisfied: numba in /usr/local/lib/python3.7/dist-packages (from mne-features) (0.51.2)\n",
            "Requirement already satisfied: numpy in /usr/local/lib/python3.7/dist-packages (from mne-features) (1.21.6)\n",
            "Requirement already satisfied: mne in /usr/local/lib/python3.7/dist-packages (from mne-features) (1.0.3)\n",
            "Requirement already satisfied: jinja2 in /usr/local/lib/python3.7/dist-packages (from mne->mne-features) (2.11.3)\n",
            "Requirement already satisfied: pooch>=1.5 in /usr/local/lib/python3.7/dist-packages (from mne->mne-features) (1.6.0)\n",
            "Requirement already satisfied: matplotlib in /usr/local/lib/python3.7/dist-packages (from mne->mne-features) (3.2.2)\n",
            "Requirement already satisfied: tqdm in /usr/local/lib/python3.7/dist-packages (from mne->mne-features) (4.64.0)\n",
            "Requirement already satisfied: decorator in /usr/local/lib/python3.7/dist-packages (from mne->mne-features) (4.4.2)\n",
            "Requirement already satisfied: packaging in /usr/local/lib/python3.7/dist-packages (from mne->mne-features) (21.3)\n",
            "Requirement already satisfied: appdirs>=1.3.0 in /usr/local/lib/python3.7/dist-packages (from pooch>=1.5->mne->mne-features) (1.4.4)\n",
            "Requirement already satisfied: requests>=2.19.0 in /usr/local/lib/python3.7/dist-packages (from pooch>=1.5->mne->mne-features) (2.23.0)\n",
            "Requirement already satisfied: pyparsing!=3.0.5,>=2.0.2 in /usr/local/lib/python3.7/dist-packages (from packaging->mne->mne-features) (3.0.9)\n",
            "Requirement already satisfied: idna<3,>=2.5 in /usr/local/lib/python3.7/dist-packages (from requests>=2.19.0->pooch>=1.5->mne->mne-features) (2.10)\n",
            "Requirement already satisfied: chardet<4,>=3.0.2 in /usr/local/lib/python3.7/dist-packages (from requests>=2.19.0->pooch>=1.5->mne->mne-features) (3.0.4)\n",
            "Requirement already satisfied: urllib3!=1.25.0,!=1.25.1,<1.26,>=1.21.1 in /usr/local/lib/python3.7/dist-packages (from requests>=2.19.0->pooch>=1.5->mne->mne-features) (1.24.3)\n",
            "Requirement already satisfied: certifi>=2017.4.17 in /usr/local/lib/python3.7/dist-packages (from requests>=2.19.0->pooch>=1.5->mne->mne-features) (2022.6.15)\n",
            "Requirement already satisfied: MarkupSafe>=0.23 in /usr/local/lib/python3.7/dist-packages (from jinja2->mne->mne-features) (2.0.1)\n",
            "Requirement already satisfied: kiwisolver>=1.0.1 in /usr/local/lib/python3.7/dist-packages (from matplotlib->mne->mne-features) (1.4.3)\n",
            "Requirement already satisfied: cycler>=0.10 in /usr/local/lib/python3.7/dist-packages (from matplotlib->mne->mne-features) (0.11.0)\n",
            "Requirement already satisfied: python-dateutil>=2.1 in /usr/local/lib/python3.7/dist-packages (from matplotlib->mne->mne-features) (2.8.2)\n",
            "Requirement already satisfied: typing-extensions in /usr/local/lib/python3.7/dist-packages (from kiwisolver>=1.0.1->matplotlib->mne->mne-features) (4.1.1)\n",
            "Requirement already satisfied: six>=1.5 in /usr/local/lib/python3.7/dist-packages (from python-dateutil>=2.1->matplotlib->mne->mne-features) (1.15.0)\n",
            "Requirement already satisfied: llvmlite<0.35,>=0.34.0.dev0 in /usr/local/lib/python3.7/dist-packages (from numba->mne-features) (0.34.0)\n",
            "Requirement already satisfied: setuptools in /usr/local/lib/python3.7/dist-packages (from numba->mne-features) (57.4.0)\n",
            "Requirement already satisfied: pytz>=2017.3 in /usr/local/lib/python3.7/dist-packages (from pandas->mne-features) (2022.1)\n",
            "Requirement already satisfied: joblib>=0.11 in /usr/local/lib/python3.7/dist-packages (from scikit-learn->mne-features) (1.1.0)\n",
            "Requirement already satisfied: threadpoolctl>=2.0.0 in /usr/local/lib/python3.7/dist-packages (from scikit-learn->mne-features) (3.1.0)\n"
          ]
        }
      ]
    },
    {
      "cell_type": "code",
      "source": [
        "import os\n",
        "import numpy as np\n",
        "import mne\n",
        "import scipy.io\n",
        "import picard\n",
        "import pickle\n",
        "import random\n",
        "from imblearn.over_sampling import SMOTE\n",
        "from imblearn.under_sampling import RandomUnderSampler\n",
        "from collections import Counter\n",
        "from mne.preprocessing import (ICA, create_eog_epochs, create_ecg_epochs,\n",
        "                               corrmap)\n",
        "from sklearn.linear_model import LogisticRegression,RidgeCV\n",
        "from sklearn.model_selection import cross_val_score, KFold\n",
        "\n",
        "from sklearn.preprocessing import StandardScaler\n",
        "from mne_features.feature_extraction import extract_features\n",
        "from sklearn.ensemble import RandomForestClassifier\n",
        "from sklearn.model_selection import train_test_split\n",
        "from sklearn import metrics \n",
        "from sklearn.discriminant_analysis import LinearDiscriminantAnalysis\n",
        "import pickle\n",
        "import matplotlib.pyplot as plt\n"
      ],
      "metadata": {
        "id": "C7M3w_zjLmA0"
      },
      "execution_count": 3,
      "outputs": []
    },
    {
      "cell_type": "code",
      "source": [
        "try:\n",
        "  atep=\"/content/drive/MyDrive/BCIDATASETS/BCI_Comp_III_Wads_2004/Subject_A_Test.mat\"\n",
        "  scipy.io.loadmat(atep)\n",
        "except:\n",
        "  try:\n",
        "    atep=\"/content/drive/MyDrive/CDAC Weekly Report/BCI_Comp_III_Wads_2004/Subject_A_Test.mat\"\n",
        "    scipy.io.loadmat(atep)\n",
        "  except:\n",
        "    print(\"Data could not be loaded\")\n",
        "  else:\n",
        "    atep=\"/content/drive/MyDrive/CDAC Weekly Report/BCI_Comp_III_Wads_2004/Subject_A_Test.mat\"\n",
        "    atrp=\"/content/drive/MyDrive/CDAC Weekly Report/BCI_Comp_III_Wads_2004/Subject_A_Train.mat\"\n",
        "    btep=\"/content/drive/MyDrive/CDAC Weekly Report/BCI_Comp_III_Wads_2004/Subject_B_Test.mat\"\n",
        "    btrp=\"/content/drive/MyDrive/CDAC Weekly Report/BCI_Comp_III_Wads_2004/Subject_B_Train.mat\"\n",
        "    ate=scipy.io.loadmat(atep)\n",
        "    atr=scipy.io.loadmat(atrp)\n",
        "    # bte=scipy.io.loadmat(btep)\n",
        "    # btr=scipy.io.loadmat(btrp)\n",
        "    print(\"T's data loaded\")\n",
        "else:\n",
        "  atep=\"/content/drive/MyDrive/BCIDATASETS/BCI_Comp_III_Wads_2004/Subject_A_Test.mat\"\n",
        "  atrp=\"/content/drive/MyDrive/BCIDATASETS/BCI_Comp_III_Wads_2004/Subject_A_Train.mat\"\n",
        "  btep=\"/content/drive/MyDrive/BCIDATASETS/BCI_Comp_III_Wads_2004/Subject_B_Test.mat\"\n",
        "  btrp=\"/content/drive/MyDrive/BCIDATASETS/BCI_Comp_III_Wads_2004/Subject_B_Train.mat\"\n",
        "  ate=scipy.io.loadmat(atep)\n",
        "  atr=scipy.io.loadmat(atrp)\n",
        "  # bte=scipy.io.loadmat(btep)\n",
        "  # btr=scipy.io.loadmat(btrp)\n",
        "  print(\"F's data loaded\") "
      ],
      "metadata": {
        "colab": {
          "base_uri": "https://localhost:8080/"
        },
        "id": "hcYN0PxJLo6D",
        "outputId": "8c481dd2-7e5c-4933-a61b-484b6d317b30"
      },
      "execution_count": 4,
      "outputs": [
        {
          "output_type": "stream",
          "name": "stdout",
          "text": [
            "F's data loaded\n"
          ]
        }
      ]
    },
    {
      "cell_type": "markdown",
      "source": [
        "# 2 Data setup "
      ],
      "metadata": {
        "id": "BTs_vwC6L1Fb"
      }
    },
    {
      "cell_type": "code",
      "source": [
        "signal=atr['Signal']\n",
        "tarchar=atr['TargetChar'][0]\n",
        "flashing=atr['Flashing']\n",
        "stimcode=atr['StimulusCode']\n",
        "stimtype=atr['StimulusType']"
      ],
      "metadata": {
        "id": "q7ZuKGZgLwDr"
      },
      "execution_count": 5,
      "outputs": []
    },
    {
      "cell_type": "code",
      "source": [
        "for char in range(85):\n",
        "  for i in range(len(flashing[0])):\n",
        "    if stimcode[char,i]!=0:\n",
        "      if stimtype[char,i]==1:\n",
        "        stimtype[char,i]=2\n",
        "      else:\n",
        "        stimtype[char,i]=1"
      ],
      "metadata": {
        "id": "MqOPSxMRLyQ7"
      },
      "execution_count": 6,
      "outputs": []
    },
    {
      "cell_type": "code",
      "source": [
        "signal_m=signal[0]\n",
        "stimcode_m=stimcode[0]\n",
        "stimtype_m=stimtype[0]\n",
        "for i in range(1,85):\n",
        "  signal_m=np.concatenate((signal_m,signal[i]))\n",
        "  stimcode_m=np.concatenate((stimcode_m,stimcode[i]))\n",
        "  stimtype_m=np.concatenate((stimtype_m,stimtype[i]))"
      ],
      "metadata": {
        "id": "fLDdo09RL2gC"
      },
      "execution_count": 7,
      "outputs": []
    },
    {
      "cell_type": "code",
      "source": [
        "cn=[]\n",
        "\n",
        "#mapping channel names to standard locations\n",
        "channel = {1:'FC5',2: 'FC3',3:'FC1',4:'FCz',5:'FC2',6:'FC4',7:'FC6',8:'C5',9:'C3',10:'C1',11:'Cz',12:'C2',13:'C4',14:'C6',15:'CP5',16:'CP3',17:'CP1',18:'CPz',19:'CP2',20:'CP4',21:'CP6',22:'Fp1',23:'Fpz',24:'Fp2',25:'AF7',26:'AF3',27:'AFz',28:'AF4',29:'AF8',30:'F7',31:'F5',32:'F3',33:'F1',34:'Fz',35:'F2',36:'F4',37:'F6',38:'F8',39:'FT7',40:'FT8',41:'T7',42:'T8',43:'P9',44:'P10',45:'TP7',46:'TP8',47:'P7',48:'P5',49:'P3',50:'P1',51:'Pz',52:'P2',53:'P4',54:'P6',55:'P8',56:'PO7',57:'PO3',58:'POz',59:'PO4',60:'PO8',61:'O1',62:'Oz',63:'O2',64:'Iz'}\n",
        "cn = [*channel.values()]\n",
        "\n",
        "#channel types\n",
        "ch_types= ['eeg'] * signal_m.shape[1]\n",
        "\n",
        "#create info object for data\n",
        "info=mne.create_info(cn, 240, ch_types=ch_types)\n"
      ],
      "metadata": {
        "id": "tlFmHc8TL8_6"
      },
      "execution_count": 8,
      "outputs": []
    },
    {
      "cell_type": "code",
      "source": [
        "raw_arr = mne.io.array.RawArray(signal_m.T, info)\n",
        "\n",
        "raw_arr.set_montage('biosemi64',on_missing='warn')"
      ],
      "metadata": {
        "colab": {
          "base_uri": "https://localhost:8080/",
          "height": 0
        },
        "id": "v5AKTAw6L_ka",
        "outputId": "97e16dd2-b097-4946-8bc9-ea64354a1b53"
      },
      "execution_count": 9,
      "outputs": [
        {
          "output_type": "stream",
          "name": "stdout",
          "text": [
            "Creating RawArray with float64 data, n_channels=64, n_times=662490\n",
            "    Range : 0 ... 662489 =      0.000 ...  2760.371 secs\n",
            "Ready.\n"
          ]
        },
        {
          "output_type": "execute_result",
          "data": {
            "text/plain": [
              "<RawArray | 64 x 662490 (2760.4 s), ~323.6 MB, data loaded>"
            ],
            "text/html": [
              "<table class=\"table table-hover table-striped table-sm table-responsive small\">\n",
              "    <tr>\n",
              "        <th>Measurement date</th>\n",
              "        \n",
              "        <td>Unknown</td>\n",
              "        \n",
              "    </tr>\n",
              "    <tr>\n",
              "        <th>Experimenter</th>\n",
              "        \n",
              "        <td>Unknown</td>\n",
              "        \n",
              "    </tr>\n",
              "        <th>Participant</th>\n",
              "        \n",
              "        <td>Unknown</td>\n",
              "        \n",
              "    </tr>\n",
              "    <tr>\n",
              "        <th>Digitized points</th>\n",
              "        \n",
              "        <td>0 points</td>\n",
              "        \n",
              "    </tr>\n",
              "    <tr>\n",
              "        <th>Good channels</th>\n",
              "        <td>64 EEG</td>\n",
              "    </tr>\n",
              "    <tr>\n",
              "        <th>Bad channels</th>\n",
              "        <td>None</td>\n",
              "    </tr>\n",
              "    <tr>\n",
              "        <th>EOG channels</th>\n",
              "        <td>Not available</td>\n",
              "    </tr>\n",
              "    <tr>\n",
              "        <th>ECG channels</th>\n",
              "        <td>Not available</td>\n",
              "    \n",
              "    <tr>\n",
              "        <th>Sampling frequency</th>\n",
              "        <td>240.00 Hz</td>\n",
              "    </tr>\n",
              "    \n",
              "    \n",
              "    <tr>\n",
              "        <th>Highpass</th>\n",
              "        <td>0.00 Hz</td>\n",
              "    </tr>\n",
              "    \n",
              "    \n",
              "    <tr>\n",
              "        <th>Lowpass</th>\n",
              "        <td>120.00 Hz</td>\n",
              "    </tr>\n",
              "    \n",
              "    \n",
              "    \n",
              "    <tr>\n",
              "        <th>Duration</th>\n",
              "        <td>00:46:00 (HH:MM:SS)</td>\n",
              "    </tr>\n",
              "</table>"
            ]
          },
          "metadata": {},
          "execution_count": 9
        }
      ]
    },
    {
      "cell_type": "code",
      "source": [
        "print(signal_m.shape)\n",
        "print(stimtype_m.shape)\n",
        "stimcoden= np.expand_dims(stimcode_m,axis=1)\n",
        "stimtypen = np.expand_dims(stimtype_m,axis=1)\n",
        "print(stimtypen.shape)\n",
        "signal_new = np.append(signal_m,stimcoden,axis=1)\n",
        "signal_new = np.append(signal_new,stimtypen,axis=1)\n",
        "print(signal_new.shape)\n",
        "\n",
        "ch_names_events = cn + ['stimcode']+ ['stimtype']\n",
        "ch_types_events = ch_types + ['misc'] + ['misc']\n",
        "\n",
        "info_events = mne.create_info(ch_names_events,240, ch_types_events)\n",
        "\n",
        "raw_arr = mne.io.RawArray(signal_new.T, info_events)\n",
        "# events_arr = mne.io.RawArray(signal_new[0].T, info_events)"
      ],
      "metadata": {
        "colab": {
          "base_uri": "https://localhost:8080/"
        },
        "id": "tO_lWXoOMBVb",
        "outputId": "04c09c40-5b13-4784-82af-d63d1dff0941"
      },
      "execution_count": 10,
      "outputs": [
        {
          "output_type": "stream",
          "name": "stdout",
          "text": [
            "(662490, 64)\n",
            "(662490,)\n",
            "(662490, 1)\n",
            "(662490, 66)\n",
            "Creating RawArray with float64 data, n_channels=66, n_times=662490\n",
            "    Range : 0 ... 662489 =      0.000 ...  2760.371 secs\n",
            "Ready.\n"
          ]
        }
      ]
    },
    {
      "cell_type": "code",
      "source": [
        "  stimcoden = np.expand_dims(stimcode,axis=2)\n",
        "  stimtypen = np.expand_dims(stimtype,axis=2)\n",
        "  signew= np.append(signal,stimcoden,axis=2)\n",
        "  signew = np.append(signew,stimtypen,axis=2)"
      ],
      "metadata": {
        "id": "GHydPw73MIMS"
      },
      "execution_count": 11,
      "outputs": []
    },
    {
      "cell_type": "code",
      "source": [
        "signew.shape"
      ],
      "metadata": {
        "colab": {
          "base_uri": "https://localhost:8080/"
        },
        "id": "w0qC7d92MNdb",
        "outputId": "7262dc4b-2363-4a1b-8aec-b900370b9950"
      },
      "execution_count": 12,
      "outputs": [
        {
          "output_type": "execute_result",
          "data": {
            "text/plain": [
              "(85, 7794, 66)"
            ]
          },
          "metadata": {},
          "execution_count": 12
        }
      ]
    },
    {
      "cell_type": "code",
      "source": [
        "X_train_raw=list()\n",
        "for i in range(signal.shape[0]):\n",
        "  tempraw = mne.io.RawArray(signew[i].T, info_events)\n",
        "  X_train_raw.append(tempraw)"
      ],
      "metadata": {
        "colab": {
          "base_uri": "https://localhost:8080/"
        },
        "id": "L3Vt7fS1MPaz",
        "outputId": "04c5772c-191f-4a3c-d8f0-ea711ea07c67"
      },
      "execution_count": 13,
      "outputs": [
        {
          "output_type": "stream",
          "name": "stdout",
          "text": [
            "Creating RawArray with float64 data, n_channels=66, n_times=7794\n",
            "    Range : 0 ... 7793 =      0.000 ...    32.471 secs\n",
            "Ready.\n",
            "Creating RawArray with float64 data, n_channels=66, n_times=7794\n",
            "    Range : 0 ... 7793 =      0.000 ...    32.471 secs\n",
            "Ready.\n",
            "Creating RawArray with float64 data, n_channels=66, n_times=7794\n",
            "    Range : 0 ... 7793 =      0.000 ...    32.471 secs\n",
            "Ready.\n",
            "Creating RawArray with float64 data, n_channels=66, n_times=7794\n",
            "    Range : 0 ... 7793 =      0.000 ...    32.471 secs\n",
            "Ready.\n",
            "Creating RawArray with float64 data, n_channels=66, n_times=7794\n",
            "    Range : 0 ... 7793 =      0.000 ...    32.471 secs\n",
            "Ready.\n",
            "Creating RawArray with float64 data, n_channels=66, n_times=7794\n",
            "    Range : 0 ... 7793 =      0.000 ...    32.471 secs\n",
            "Ready.\n",
            "Creating RawArray with float64 data, n_channels=66, n_times=7794\n",
            "    Range : 0 ... 7793 =      0.000 ...    32.471 secs\n",
            "Ready.\n",
            "Creating RawArray with float64 data, n_channels=66, n_times=7794\n",
            "    Range : 0 ... 7793 =      0.000 ...    32.471 secs\n",
            "Ready.\n",
            "Creating RawArray with float64 data, n_channels=66, n_times=7794\n",
            "    Range : 0 ... 7793 =      0.000 ...    32.471 secs\n",
            "Ready.\n",
            "Creating RawArray with float64 data, n_channels=66, n_times=7794\n",
            "    Range : 0 ... 7793 =      0.000 ...    32.471 secs\n",
            "Ready.\n",
            "Creating RawArray with float64 data, n_channels=66, n_times=7794\n",
            "    Range : 0 ... 7793 =      0.000 ...    32.471 secs\n",
            "Ready.\n",
            "Creating RawArray with float64 data, n_channels=66, n_times=7794\n",
            "    Range : 0 ... 7793 =      0.000 ...    32.471 secs\n",
            "Ready.\n",
            "Creating RawArray with float64 data, n_channels=66, n_times=7794\n",
            "    Range : 0 ... 7793 =      0.000 ...    32.471 secs\n",
            "Ready.\n",
            "Creating RawArray with float64 data, n_channels=66, n_times=7794\n",
            "    Range : 0 ... 7793 =      0.000 ...    32.471 secs\n",
            "Ready.\n",
            "Creating RawArray with float64 data, n_channels=66, n_times=7794\n",
            "    Range : 0 ... 7793 =      0.000 ...    32.471 secs\n",
            "Ready.\n",
            "Creating RawArray with float64 data, n_channels=66, n_times=7794\n",
            "    Range : 0 ... 7793 =      0.000 ...    32.471 secs\n",
            "Ready.\n",
            "Creating RawArray with float64 data, n_channels=66, n_times=7794\n",
            "    Range : 0 ... 7793 =      0.000 ...    32.471 secs\n",
            "Ready.\n",
            "Creating RawArray with float64 data, n_channels=66, n_times=7794\n",
            "    Range : 0 ... 7793 =      0.000 ...    32.471 secs\n",
            "Ready.\n",
            "Creating RawArray with float64 data, n_channels=66, n_times=7794\n",
            "    Range : 0 ... 7793 =      0.000 ...    32.471 secs\n",
            "Ready.\n",
            "Creating RawArray with float64 data, n_channels=66, n_times=7794\n",
            "    Range : 0 ... 7793 =      0.000 ...    32.471 secs\n",
            "Ready.\n",
            "Creating RawArray with float64 data, n_channels=66, n_times=7794\n",
            "    Range : 0 ... 7793 =      0.000 ...    32.471 secs\n",
            "Ready.\n",
            "Creating RawArray with float64 data, n_channels=66, n_times=7794\n",
            "    Range : 0 ... 7793 =      0.000 ...    32.471 secs\n",
            "Ready.\n",
            "Creating RawArray with float64 data, n_channels=66, n_times=7794\n",
            "    Range : 0 ... 7793 =      0.000 ...    32.471 secs\n",
            "Ready.\n",
            "Creating RawArray with float64 data, n_channels=66, n_times=7794\n",
            "    Range : 0 ... 7793 =      0.000 ...    32.471 secs\n",
            "Ready.\n",
            "Creating RawArray with float64 data, n_channels=66, n_times=7794\n",
            "    Range : 0 ... 7793 =      0.000 ...    32.471 secs\n",
            "Ready.\n",
            "Creating RawArray with float64 data, n_channels=66, n_times=7794\n",
            "    Range : 0 ... 7793 =      0.000 ...    32.471 secs\n",
            "Ready.\n",
            "Creating RawArray with float64 data, n_channels=66, n_times=7794\n",
            "    Range : 0 ... 7793 =      0.000 ...    32.471 secs\n",
            "Ready.\n",
            "Creating RawArray with float64 data, n_channels=66, n_times=7794\n",
            "    Range : 0 ... 7793 =      0.000 ...    32.471 secs\n",
            "Ready.\n",
            "Creating RawArray with float64 data, n_channels=66, n_times=7794\n",
            "    Range : 0 ... 7793 =      0.000 ...    32.471 secs\n",
            "Ready.\n",
            "Creating RawArray with float64 data, n_channels=66, n_times=7794\n",
            "    Range : 0 ... 7793 =      0.000 ...    32.471 secs\n",
            "Ready.\n",
            "Creating RawArray with float64 data, n_channels=66, n_times=7794\n",
            "    Range : 0 ... 7793 =      0.000 ...    32.471 secs\n",
            "Ready.\n",
            "Creating RawArray with float64 data, n_channels=66, n_times=7794\n",
            "    Range : 0 ... 7793 =      0.000 ...    32.471 secs\n",
            "Ready.\n",
            "Creating RawArray with float64 data, n_channels=66, n_times=7794\n",
            "    Range : 0 ... 7793 =      0.000 ...    32.471 secs\n",
            "Ready.\n",
            "Creating RawArray with float64 data, n_channels=66, n_times=7794\n",
            "    Range : 0 ... 7793 =      0.000 ...    32.471 secs\n",
            "Ready.\n",
            "Creating RawArray with float64 data, n_channels=66, n_times=7794\n",
            "    Range : 0 ... 7793 =      0.000 ...    32.471 secs\n",
            "Ready.\n",
            "Creating RawArray with float64 data, n_channels=66, n_times=7794\n",
            "    Range : 0 ... 7793 =      0.000 ...    32.471 secs\n",
            "Ready.\n",
            "Creating RawArray with float64 data, n_channels=66, n_times=7794\n",
            "    Range : 0 ... 7793 =      0.000 ...    32.471 secs\n",
            "Ready.\n",
            "Creating RawArray with float64 data, n_channels=66, n_times=7794\n",
            "    Range : 0 ... 7793 =      0.000 ...    32.471 secs\n",
            "Ready.\n",
            "Creating RawArray with float64 data, n_channels=66, n_times=7794\n",
            "    Range : 0 ... 7793 =      0.000 ...    32.471 secs\n",
            "Ready.\n",
            "Creating RawArray with float64 data, n_channels=66, n_times=7794\n",
            "    Range : 0 ... 7793 =      0.000 ...    32.471 secs\n",
            "Ready.\n",
            "Creating RawArray with float64 data, n_channels=66, n_times=7794\n",
            "    Range : 0 ... 7793 =      0.000 ...    32.471 secs\n",
            "Ready.\n",
            "Creating RawArray with float64 data, n_channels=66, n_times=7794\n",
            "    Range : 0 ... 7793 =      0.000 ...    32.471 secs\n",
            "Ready.\n",
            "Creating RawArray with float64 data, n_channels=66, n_times=7794\n",
            "    Range : 0 ... 7793 =      0.000 ...    32.471 secs\n",
            "Ready.\n",
            "Creating RawArray with float64 data, n_channels=66, n_times=7794\n",
            "    Range : 0 ... 7793 =      0.000 ...    32.471 secs\n",
            "Ready.\n",
            "Creating RawArray with float64 data, n_channels=66, n_times=7794\n",
            "    Range : 0 ... 7793 =      0.000 ...    32.471 secs\n",
            "Ready.\n",
            "Creating RawArray with float64 data, n_channels=66, n_times=7794\n",
            "    Range : 0 ... 7793 =      0.000 ...    32.471 secs\n",
            "Ready.\n",
            "Creating RawArray with float64 data, n_channels=66, n_times=7794\n",
            "    Range : 0 ... 7793 =      0.000 ...    32.471 secs\n",
            "Ready.\n",
            "Creating RawArray with float64 data, n_channels=66, n_times=7794\n",
            "    Range : 0 ... 7793 =      0.000 ...    32.471 secs\n",
            "Ready.\n",
            "Creating RawArray with float64 data, n_channels=66, n_times=7794\n",
            "    Range : 0 ... 7793 =      0.000 ...    32.471 secs\n",
            "Ready.\n",
            "Creating RawArray with float64 data, n_channels=66, n_times=7794\n",
            "    Range : 0 ... 7793 =      0.000 ...    32.471 secs\n",
            "Ready.\n",
            "Creating RawArray with float64 data, n_channels=66, n_times=7794\n",
            "    Range : 0 ... 7793 =      0.000 ...    32.471 secs\n",
            "Ready.\n",
            "Creating RawArray with float64 data, n_channels=66, n_times=7794\n",
            "    Range : 0 ... 7793 =      0.000 ...    32.471 secs\n",
            "Ready.\n",
            "Creating RawArray with float64 data, n_channels=66, n_times=7794\n",
            "    Range : 0 ... 7793 =      0.000 ...    32.471 secs\n",
            "Ready.\n",
            "Creating RawArray with float64 data, n_channels=66, n_times=7794\n",
            "    Range : 0 ... 7793 =      0.000 ...    32.471 secs\n",
            "Ready.\n",
            "Creating RawArray with float64 data, n_channels=66, n_times=7794\n",
            "    Range : 0 ... 7793 =      0.000 ...    32.471 secs\n",
            "Ready.\n",
            "Creating RawArray with float64 data, n_channels=66, n_times=7794\n",
            "    Range : 0 ... 7793 =      0.000 ...    32.471 secs\n",
            "Ready.\n",
            "Creating RawArray with float64 data, n_channels=66, n_times=7794\n",
            "    Range : 0 ... 7793 =      0.000 ...    32.471 secs\n",
            "Ready.\n",
            "Creating RawArray with float64 data, n_channels=66, n_times=7794\n",
            "    Range : 0 ... 7793 =      0.000 ...    32.471 secs\n",
            "Ready.\n",
            "Creating RawArray with float64 data, n_channels=66, n_times=7794\n",
            "    Range : 0 ... 7793 =      0.000 ...    32.471 secs\n",
            "Ready.\n",
            "Creating RawArray with float64 data, n_channels=66, n_times=7794\n",
            "    Range : 0 ... 7793 =      0.000 ...    32.471 secs\n",
            "Ready.\n",
            "Creating RawArray with float64 data, n_channels=66, n_times=7794\n",
            "    Range : 0 ... 7793 =      0.000 ...    32.471 secs\n",
            "Ready.\n",
            "Creating RawArray with float64 data, n_channels=66, n_times=7794\n",
            "    Range : 0 ... 7793 =      0.000 ...    32.471 secs\n",
            "Ready.\n",
            "Creating RawArray with float64 data, n_channels=66, n_times=7794\n",
            "    Range : 0 ... 7793 =      0.000 ...    32.471 secs\n",
            "Ready.\n",
            "Creating RawArray with float64 data, n_channels=66, n_times=7794\n",
            "    Range : 0 ... 7793 =      0.000 ...    32.471 secs\n",
            "Ready.\n",
            "Creating RawArray with float64 data, n_channels=66, n_times=7794\n",
            "    Range : 0 ... 7793 =      0.000 ...    32.471 secs\n",
            "Ready.\n",
            "Creating RawArray with float64 data, n_channels=66, n_times=7794\n",
            "    Range : 0 ... 7793 =      0.000 ...    32.471 secs\n",
            "Ready.\n",
            "Creating RawArray with float64 data, n_channels=66, n_times=7794\n",
            "    Range : 0 ... 7793 =      0.000 ...    32.471 secs\n",
            "Ready.\n",
            "Creating RawArray with float64 data, n_channels=66, n_times=7794\n",
            "    Range : 0 ... 7793 =      0.000 ...    32.471 secs\n",
            "Ready.\n",
            "Creating RawArray with float64 data, n_channels=66, n_times=7794\n",
            "    Range : 0 ... 7793 =      0.000 ...    32.471 secs\n",
            "Ready.\n",
            "Creating RawArray with float64 data, n_channels=66, n_times=7794\n",
            "    Range : 0 ... 7793 =      0.000 ...    32.471 secs\n",
            "Ready.\n",
            "Creating RawArray with float64 data, n_channels=66, n_times=7794\n",
            "    Range : 0 ... 7793 =      0.000 ...    32.471 secs\n",
            "Ready.\n",
            "Creating RawArray with float64 data, n_channels=66, n_times=7794\n",
            "    Range : 0 ... 7793 =      0.000 ...    32.471 secs\n",
            "Ready.\n",
            "Creating RawArray with float64 data, n_channels=66, n_times=7794\n",
            "    Range : 0 ... 7793 =      0.000 ...    32.471 secs\n",
            "Ready.\n",
            "Creating RawArray with float64 data, n_channels=66, n_times=7794\n",
            "    Range : 0 ... 7793 =      0.000 ...    32.471 secs\n",
            "Ready.\n",
            "Creating RawArray with float64 data, n_channels=66, n_times=7794\n",
            "    Range : 0 ... 7793 =      0.000 ...    32.471 secs\n",
            "Ready.\n",
            "Creating RawArray with float64 data, n_channels=66, n_times=7794\n",
            "    Range : 0 ... 7793 =      0.000 ...    32.471 secs\n",
            "Ready.\n",
            "Creating RawArray with float64 data, n_channels=66, n_times=7794\n",
            "    Range : 0 ... 7793 =      0.000 ...    32.471 secs\n",
            "Ready.\n",
            "Creating RawArray with float64 data, n_channels=66, n_times=7794\n",
            "    Range : 0 ... 7793 =      0.000 ...    32.471 secs\n",
            "Ready.\n",
            "Creating RawArray with float64 data, n_channels=66, n_times=7794\n",
            "    Range : 0 ... 7793 =      0.000 ...    32.471 secs\n",
            "Ready.\n",
            "Creating RawArray with float64 data, n_channels=66, n_times=7794\n",
            "    Range : 0 ... 7793 =      0.000 ...    32.471 secs\n",
            "Ready.\n",
            "Creating RawArray with float64 data, n_channels=66, n_times=7794\n",
            "    Range : 0 ... 7793 =      0.000 ...    32.471 secs\n",
            "Ready.\n",
            "Creating RawArray with float64 data, n_channels=66, n_times=7794\n",
            "    Range : 0 ... 7793 =      0.000 ...    32.471 secs\n",
            "Ready.\n",
            "Creating RawArray with float64 data, n_channels=66, n_times=7794\n",
            "    Range : 0 ... 7793 =      0.000 ...    32.471 secs\n",
            "Ready.\n",
            "Creating RawArray with float64 data, n_channels=66, n_times=7794\n",
            "    Range : 0 ... 7793 =      0.000 ...    32.471 secs\n",
            "Ready.\n",
            "Creating RawArray with float64 data, n_channels=66, n_times=7794\n",
            "    Range : 0 ... 7793 =      0.000 ...    32.471 secs\n",
            "Ready.\n"
          ]
        }
      ]
    },
    {
      "cell_type": "markdown",
      "source": [
        "# 3 Filtering"
      ],
      "metadata": {
        "id": "IJKU27-3MWjk"
      }
    },
    {
      "cell_type": "code",
      "source": [
        "x_arr_1=raw_arr.copy().filter(1,20)\n",
        "x_arr_1.set_montage('biosemi64',on_missing='warn')"
      ],
      "metadata": {
        "colab": {
          "base_uri": "https://localhost:8080/",
          "height": 511
        },
        "id": "viaH3Hv-MTsC",
        "outputId": "a9a6f3c5-78df-4c66-db36-a9159b5d0a6a"
      },
      "execution_count": 15,
      "outputs": [
        {
          "output_type": "stream",
          "name": "stdout",
          "text": [
            "Filtering raw data in 1 contiguous segment\n",
            "Setting up band-pass filter from 1 - 20 Hz\n",
            "\n",
            "FIR filter parameters\n",
            "---------------------\n",
            "Designing a one-pass, zero-phase, non-causal bandpass filter:\n",
            "- Windowed time-domain design (firwin) method\n",
            "- Hamming window with 0.0194 passband ripple and 53 dB stopband attenuation\n",
            "- Lower passband edge: 1.00\n",
            "- Lower transition bandwidth: 1.00 Hz (-6 dB cutoff frequency: 0.50 Hz)\n",
            "- Upper passband edge: 20.00 Hz\n",
            "- Upper transition bandwidth: 5.00 Hz (-6 dB cutoff frequency: 22.50 Hz)\n",
            "- Filter length: 793 samples (3.304 sec)\n",
            "\n"
          ]
        },
        {
          "output_type": "execute_result",
          "data": {
            "text/plain": [
              "<RawArray | 66 x 662490 (2760.4 s), ~333.7 MB, data loaded>"
            ],
            "text/html": [
              "<table class=\"table table-hover table-striped table-sm table-responsive small\">\n",
              "    <tr>\n",
              "        <th>Measurement date</th>\n",
              "        \n",
              "        <td>Unknown</td>\n",
              "        \n",
              "    </tr>\n",
              "    <tr>\n",
              "        <th>Experimenter</th>\n",
              "        \n",
              "        <td>Unknown</td>\n",
              "        \n",
              "    </tr>\n",
              "        <th>Participant</th>\n",
              "        \n",
              "        <td>Unknown</td>\n",
              "        \n",
              "    </tr>\n",
              "    <tr>\n",
              "        <th>Digitized points</th>\n",
              "        \n",
              "        <td>0 points</td>\n",
              "        \n",
              "    </tr>\n",
              "    <tr>\n",
              "        <th>Good channels</th>\n",
              "        <td>64 EEG, 2 misc</td>\n",
              "    </tr>\n",
              "    <tr>\n",
              "        <th>Bad channels</th>\n",
              "        <td>None</td>\n",
              "    </tr>\n",
              "    <tr>\n",
              "        <th>EOG channels</th>\n",
              "        <td>Not available</td>\n",
              "    </tr>\n",
              "    <tr>\n",
              "        <th>ECG channels</th>\n",
              "        <td>Not available</td>\n",
              "    \n",
              "    <tr>\n",
              "        <th>Sampling frequency</th>\n",
              "        <td>240.00 Hz</td>\n",
              "    </tr>\n",
              "    \n",
              "    \n",
              "    <tr>\n",
              "        <th>Highpass</th>\n",
              "        <td>1.00 Hz</td>\n",
              "    </tr>\n",
              "    \n",
              "    \n",
              "    <tr>\n",
              "        <th>Lowpass</th>\n",
              "        <td>20.00 Hz</td>\n",
              "    </tr>\n",
              "    \n",
              "    \n",
              "    \n",
              "    <tr>\n",
              "        <th>Duration</th>\n",
              "        <td>00:46:00 (HH:MM:SS)</td>\n",
              "    </tr>\n",
              "</table>"
            ]
          },
          "metadata": {},
          "execution_count": 15
        }
      ]
    },
    {
      "cell_type": "code",
      "source": [
        "x_arr_2=raw_arr.copy().filter(1,40)\n",
        "x_arr_2.set_montage('biosemi64',on_missing='warn')"
      ],
      "metadata": {
        "colab": {
          "base_uri": "https://localhost:8080/",
          "height": 511
        },
        "id": "MqYXOYBxMp3K",
        "outputId": "2ef11916-c70b-4c8e-b47d-e2ef624ca9ec"
      },
      "execution_count": 14,
      "outputs": [
        {
          "output_type": "stream",
          "name": "stdout",
          "text": [
            "Filtering raw data in 1 contiguous segment\n",
            "Setting up band-pass filter from 1 - 40 Hz\n",
            "\n",
            "FIR filter parameters\n",
            "---------------------\n",
            "Designing a one-pass, zero-phase, non-causal bandpass filter:\n",
            "- Windowed time-domain design (firwin) method\n",
            "- Hamming window with 0.0194 passband ripple and 53 dB stopband attenuation\n",
            "- Lower passband edge: 1.00\n",
            "- Lower transition bandwidth: 1.00 Hz (-6 dB cutoff frequency: 0.50 Hz)\n",
            "- Upper passband edge: 40.00 Hz\n",
            "- Upper transition bandwidth: 10.00 Hz (-6 dB cutoff frequency: 45.00 Hz)\n",
            "- Filter length: 793 samples (3.304 sec)\n",
            "\n"
          ]
        },
        {
          "output_type": "execute_result",
          "data": {
            "text/plain": [
              "<RawArray | 66 x 662490 (2760.4 s), ~333.7 MB, data loaded>"
            ],
            "text/html": [
              "<table class=\"table table-hover table-striped table-sm table-responsive small\">\n",
              "    <tr>\n",
              "        <th>Measurement date</th>\n",
              "        \n",
              "        <td>Unknown</td>\n",
              "        \n",
              "    </tr>\n",
              "    <tr>\n",
              "        <th>Experimenter</th>\n",
              "        \n",
              "        <td>Unknown</td>\n",
              "        \n",
              "    </tr>\n",
              "        <th>Participant</th>\n",
              "        \n",
              "        <td>Unknown</td>\n",
              "        \n",
              "    </tr>\n",
              "    <tr>\n",
              "        <th>Digitized points</th>\n",
              "        \n",
              "        <td>0 points</td>\n",
              "        \n",
              "    </tr>\n",
              "    <tr>\n",
              "        <th>Good channels</th>\n",
              "        <td>64 EEG, 2 misc</td>\n",
              "    </tr>\n",
              "    <tr>\n",
              "        <th>Bad channels</th>\n",
              "        <td>None</td>\n",
              "    </tr>\n",
              "    <tr>\n",
              "        <th>EOG channels</th>\n",
              "        <td>Not available</td>\n",
              "    </tr>\n",
              "    <tr>\n",
              "        <th>ECG channels</th>\n",
              "        <td>Not available</td>\n",
              "    \n",
              "    <tr>\n",
              "        <th>Sampling frequency</th>\n",
              "        <td>240.00 Hz</td>\n",
              "    </tr>\n",
              "    \n",
              "    \n",
              "    <tr>\n",
              "        <th>Highpass</th>\n",
              "        <td>1.00 Hz</td>\n",
              "    </tr>\n",
              "    \n",
              "    \n",
              "    <tr>\n",
              "        <th>Lowpass</th>\n",
              "        <td>40.00 Hz</td>\n",
              "    </tr>\n",
              "    \n",
              "    \n",
              "    \n",
              "    <tr>\n",
              "        <th>Duration</th>\n",
              "        <td>00:46:00 (HH:MM:SS)</td>\n",
              "    </tr>\n",
              "</table>"
            ]
          },
          "metadata": {},
          "execution_count": 14
        }
      ]
    },
    {
      "cell_type": "code",
      "source": [
        "x_arr_3=raw_arr.copy().filter(0.1,40)\n",
        "x_arr_3.set_montage('biosemi64',on_missing='warn')"
      ],
      "metadata": {
        "colab": {
          "base_uri": "https://localhost:8080/",
          "height": 511
        },
        "id": "WRBTEn1ZUFrQ",
        "outputId": "fb421623-d001-4bbd-97ff-c812c9677ebc"
      },
      "execution_count": 41,
      "outputs": [
        {
          "output_type": "stream",
          "name": "stdout",
          "text": [
            "Filtering raw data in 1 contiguous segment\n",
            "Setting up band-pass filter from 0.1 - 40 Hz\n",
            "\n",
            "FIR filter parameters\n",
            "---------------------\n",
            "Designing a one-pass, zero-phase, non-causal bandpass filter:\n",
            "- Windowed time-domain design (firwin) method\n",
            "- Hamming window with 0.0194 passband ripple and 53 dB stopband attenuation\n",
            "- Lower passband edge: 0.10\n",
            "- Lower transition bandwidth: 0.10 Hz (-6 dB cutoff frequency: 0.05 Hz)\n",
            "- Upper passband edge: 40.00 Hz\n",
            "- Upper transition bandwidth: 10.00 Hz (-6 dB cutoff frequency: 45.00 Hz)\n",
            "- Filter length: 7921 samples (33.004 sec)\n",
            "\n"
          ]
        },
        {
          "output_type": "execute_result",
          "data": {
            "text/plain": [
              "<RawArray | 66 x 662490 (2760.4 s), ~333.7 MB, data loaded>"
            ],
            "text/html": [
              "<table class=\"table table-hover table-striped table-sm table-responsive small\">\n",
              "    <tr>\n",
              "        <th>Measurement date</th>\n",
              "        \n",
              "        <td>Unknown</td>\n",
              "        \n",
              "    </tr>\n",
              "    <tr>\n",
              "        <th>Experimenter</th>\n",
              "        \n",
              "        <td>Unknown</td>\n",
              "        \n",
              "    </tr>\n",
              "        <th>Participant</th>\n",
              "        \n",
              "        <td>Unknown</td>\n",
              "        \n",
              "    </tr>\n",
              "    <tr>\n",
              "        <th>Digitized points</th>\n",
              "        \n",
              "        <td>0 points</td>\n",
              "        \n",
              "    </tr>\n",
              "    <tr>\n",
              "        <th>Good channels</th>\n",
              "        <td>64 EEG, 2 misc</td>\n",
              "    </tr>\n",
              "    <tr>\n",
              "        <th>Bad channels</th>\n",
              "        <td>None</td>\n",
              "    </tr>\n",
              "    <tr>\n",
              "        <th>EOG channels</th>\n",
              "        <td>Not available</td>\n",
              "    </tr>\n",
              "    <tr>\n",
              "        <th>ECG channels</th>\n",
              "        <td>Not available</td>\n",
              "    \n",
              "    <tr>\n",
              "        <th>Sampling frequency</th>\n",
              "        <td>240.00 Hz</td>\n",
              "    </tr>\n",
              "    \n",
              "    \n",
              "    <tr>\n",
              "        <th>Highpass</th>\n",
              "        <td>0.10 Hz</td>\n",
              "    </tr>\n",
              "    \n",
              "    \n",
              "    <tr>\n",
              "        <th>Lowpass</th>\n",
              "        <td>40.00 Hz</td>\n",
              "    </tr>\n",
              "    \n",
              "    \n",
              "    \n",
              "    <tr>\n",
              "        <th>Duration</th>\n",
              "        <td>00:46:00 (HH:MM:SS)</td>\n",
              "    </tr>\n",
              "</table>"
            ]
          },
          "metadata": {},
          "execution_count": 41
        }
      ]
    },
    {
      "cell_type": "markdown",
      "source": [
        "# 4 Event and Epoch creation"
      ],
      "metadata": {
        "id": "t1GQBS8kM01L"
      }
    },
    {
      "cell_type": "code",
      "source": [
        "events_st = mne.find_events(x_arr_2, stim_channel='stimtype', initial_event=True)"
      ],
      "metadata": {
        "colab": {
          "base_uri": "https://localhost:8080/"
        },
        "id": "7tMoAtHrM0Jb",
        "outputId": "48f5558e-8280-4e47-8fe3-3b44182f95f4"
      },
      "execution_count": 15,
      "outputs": [
        {
          "output_type": "stream",
          "name": "stdout",
          "text": [
            "15300 events found\n",
            "Event IDs: [1 2]\n"
          ]
        }
      ]
    },
    {
      "cell_type": "code",
      "source": [
        "tmin1 = 0\n",
        "tmax1 = 0.7"
      ],
      "metadata": {
        "id": "cTD27g8FM-aD"
      },
      "execution_count": 110,
      "outputs": []
    },
    {
      "cell_type": "code",
      "source": [
        "bline=(tmin1,tmax1)"
      ],
      "metadata": {
        "id": "x6DEhi91NBXy"
      },
      "execution_count": 111,
      "outputs": []
    },
    {
      "cell_type": "code",
      "source": [
        "epochs1 = mne.Epochs(x_arr_1, events_st, { 'n300':1, 'p300':2 }, tmin1, tmax1, baseline=bline)"
      ],
      "metadata": {
        "colab": {
          "base_uri": "https://localhost:8080/"
        },
        "id": "mxCkpvnPNa_Z",
        "outputId": "777e4827-a3bc-49b8-c7de-fe8fdef991a9"
      },
      "execution_count": 21,
      "outputs": [
        {
          "output_type": "stream",
          "name": "stdout",
          "text": [
            "Not setting metadata\n",
            "15300 matching events found\n",
            "Applying baseline correction (mode: mean)\n",
            "0 projection items activated\n"
          ]
        }
      ]
    },
    {
      "cell_type": "code",
      "source": [
        "epochs2 = mne.Epochs(x_arr_2, events_st, { 'n300':1, 'p300':2 }, tmin1, tmax1, baseline=bline)"
      ],
      "metadata": {
        "colab": {
          "base_uri": "https://localhost:8080/"
        },
        "id": "rYlIFlurNbla",
        "outputId": "85254507-391b-4af6-b56c-742c4ba52784"
      },
      "execution_count": 112,
      "outputs": [
        {
          "output_type": "stream",
          "name": "stdout",
          "text": [
            "Not setting metadata\n",
            "15300 matching events found\n",
            "Applying baseline correction (mode: mean)\n",
            "0 projection items activated\n"
          ]
        }
      ]
    },
    {
      "cell_type": "code",
      "source": [
        "epochs3 = mne.Epochs(x_arr_3, events_st, { 'n300':1, 'p300':2 }, tmin1, tmax1, baseline=bline)"
      ],
      "metadata": {
        "colab": {
          "base_uri": "https://localhost:8080/"
        },
        "id": "1cHd7Yl5UMz5",
        "outputId": "f3949ef8-c73e-40bf-d69c-34e6b3304f4c"
      },
      "execution_count": 42,
      "outputs": [
        {
          "output_type": "stream",
          "name": "stdout",
          "text": [
            "Not setting metadata\n",
            "15300 matching events found\n",
            "Applying baseline correction (mode: mean)\n",
            "0 projection items activated\n"
          ]
        }
      ]
    },
    {
      "cell_type": "code",
      "source": [
        "epochs4 = mne.Epochs(raw_arr, events_st, { 'n300':1, 'p300':2 }, tmin1, tmax1, baseline=bline)"
      ],
      "metadata": {
        "colab": {
          "base_uri": "https://localhost:8080/"
        },
        "id": "WkMBvfF5g1Ee",
        "outputId": "7053943d-db0a-45cb-b64b-52929e7ad05c"
      },
      "execution_count": 78,
      "outputs": [
        {
          "output_type": "stream",
          "name": "stdout",
          "text": [
            "Not setting metadata\n",
            "15300 matching events found\n",
            "Applying baseline correction (mode: mean)\n",
            "0 projection items activated\n"
          ]
        }
      ]
    },
    {
      "cell_type": "markdown",
      "source": [
        "# 5 Data Balancing"
      ],
      "metadata": {
        "id": "Kxp0mwXgOG59"
      }
    },
    {
      "cell_type": "code",
      "source": [
        "from imblearn.pipeline import Pipeline"
      ],
      "metadata": {
        "id": "SckvOA8rOEm6"
      },
      "execution_count": 16,
      "outputs": []
    },
    {
      "cell_type": "code",
      "source": [
        "def balanceepocheddata(data,labels):\n",
        "  over = SMOTE(sampling_strategy=0.6,random_state=0)\n",
        "  under = RandomUnderSampler(sampling_strategy=0.6,random_state=0)\n",
        "\n",
        "  steps = [('o', over), ('u', under)]\n",
        "  pipeline = Pipeline(steps=steps)\n",
        "  \n",
        "  data2=np.moveaxis(data,1,0)\n",
        "  data2=data2[:64,:,:]\n",
        "  data3=np.empty((64,20400,169))\n",
        "  for i in range(64):\n",
        "    x2,y2 = pipeline.fit_resample(data2[i], labels)\n",
        "    data3[i]=x2\n",
        "  \n",
        "  data3=np.moveaxis(data3,1,0)\n",
        "\n",
        "  return data3,y2"
      ],
      "metadata": {
        "id": "YTyBNM__OJ4y"
      },
      "execution_count": 73,
      "outputs": []
    },
    {
      "cell_type": "code",
      "source": [
        "x1 = epochs1.get_data()\n",
        "y1 = epochs1.events.T[2]"
      ],
      "metadata": {
        "colab": {
          "base_uri": "https://localhost:8080/"
        },
        "id": "bENKBEGGOkgT",
        "outputId": "f709d260-2328-434e-f0e7-8ccd2e9dcee7"
      },
      "execution_count": 25,
      "outputs": [
        {
          "output_type": "stream",
          "name": "stdout",
          "text": [
            "Using data from preloaded Raw for 15300 events and 169 original time points ...\n",
            "0 bad epochs dropped\n"
          ]
        }
      ]
    },
    {
      "cell_type": "code",
      "source": [
        "x2 = epochs2.get_data()\n",
        "y2 = epochs2.events.T[2]"
      ],
      "metadata": {
        "colab": {
          "base_uri": "https://localhost:8080/"
        },
        "id": "-g8H-8AnOpUy",
        "outputId": "ce542747-c10b-4a14-db5d-77adf48f8544"
      },
      "execution_count": 26,
      "outputs": [
        {
          "output_type": "stream",
          "name": "stdout",
          "text": [
            "Using data from preloaded Raw for 15300 events and 169 original time points ...\n",
            "0 bad epochs dropped\n"
          ]
        }
      ]
    },
    {
      "cell_type": "code",
      "source": [
        "x1,y1=balanceepocheddata(x1,y1)"
      ],
      "metadata": {
        "id": "zWuAuqxpPGvN"
      },
      "execution_count": 27,
      "outputs": []
    },
    {
      "cell_type": "code",
      "source": [
        "x2,y2=balanceepocheddata(x2,y2)"
      ],
      "metadata": {
        "id": "2HS5h38kPMHq"
      },
      "execution_count": 29,
      "outputs": []
    },
    {
      "cell_type": "code",
      "source": [
        "from sklearn.utils import shuffle"
      ],
      "metadata": {
        "id": "rjDjDPV1Pgyi"
      },
      "execution_count": 17,
      "outputs": []
    },
    {
      "cell_type": "code",
      "source": [
        "x1,y1=shuffle(x1 ,y1 , random_state=0)\n",
        "x2,y2=shuffle(x2 ,y2 , random_state=0)"
      ],
      "metadata": {
        "id": "qhJBtEoRPhlS"
      },
      "execution_count": 31,
      "outputs": []
    },
    {
      "cell_type": "code",
      "source": [
        "del epochs1\n",
        "del epochs2\n",
        "del x_arr_1\n",
        "del x_arr_2"
      ],
      "metadata": {
        "id": "DBj79FoqQbgj"
      },
      "execution_count": 32,
      "outputs": []
    },
    {
      "cell_type": "markdown",
      "source": [
        "# 6 Filter Range Analysis"
      ],
      "metadata": {
        "id": "oEEZkog_Qkjy"
      }
    },
    {
      "cell_type": "markdown",
      "source": [
        "comparing filters by range"
      ],
      "metadata": {
        "id": "6YHVN8UjkveB"
      }
    },
    {
      "cell_type": "code",
      "source": [
        "!pip install pyriemann"
      ],
      "metadata": {
        "colab": {
          "base_uri": "https://localhost:8080/"
        },
        "id": "Wm8fA2NsQpS6",
        "outputId": "9405daa5-0b58-42c5-ccf7-cc53f320b11a"
      },
      "execution_count": 34,
      "outputs": [
        {
          "output_type": "stream",
          "name": "stdout",
          "text": [
            "Looking in indexes: https://pypi.org/simple, https://us-python.pkg.dev/colab-wheels/public/simple/\n",
            "Collecting pyriemann\n",
            "  Downloading pyriemann-0.2.7.tar.gz (42 kB)\n",
            "\u001b[K     |████████████████████████████████| 42 kB 567 kB/s \n",
            "\u001b[?25hRequirement already satisfied: numpy in /usr/local/lib/python3.7/dist-packages (from pyriemann) (1.21.6)\n",
            "Requirement already satisfied: scipy in /usr/local/lib/python3.7/dist-packages (from pyriemann) (1.4.1)\n",
            "Requirement already satisfied: scikit-learn in /usr/local/lib/python3.7/dist-packages (from pyriemann) (1.0.2)\n",
            "Requirement already satisfied: joblib in /usr/local/lib/python3.7/dist-packages (from pyriemann) (1.1.0)\n",
            "Requirement already satisfied: pandas in /usr/local/lib/python3.7/dist-packages (from pyriemann) (1.3.5)\n",
            "Requirement already satisfied: pytz>=2017.3 in /usr/local/lib/python3.7/dist-packages (from pandas->pyriemann) (2022.1)\n",
            "Requirement already satisfied: python-dateutil>=2.7.3 in /usr/local/lib/python3.7/dist-packages (from pandas->pyriemann) (2.8.2)\n",
            "Requirement already satisfied: six>=1.5 in /usr/local/lib/python3.7/dist-packages (from python-dateutil>=2.7.3->pandas->pyriemann) (1.15.0)\n",
            "Requirement already satisfied: threadpoolctl>=2.0.0 in /usr/local/lib/python3.7/dist-packages (from scikit-learn->pyriemann) (3.1.0)\n",
            "Building wheels for collected packages: pyriemann\n",
            "  Building wheel for pyriemann (setup.py) ... \u001b[?25l\u001b[?25hdone\n",
            "  Created wheel for pyriemann: filename=pyriemann-0.2.7-py2.py3-none-any.whl size=49770 sha256=41cf9a6069554e4e300283876bdb6dc072ab2e6a27519678286884eecf2f74db\n",
            "  Stored in directory: /root/.cache/pip/wheels/5c/b7/55/27dcb08ed8fb58da8c1be108c23928ffb9125c9c1da2ddfb53\n",
            "Successfully built pyriemann\n",
            "Installing collected packages: pyriemann\n",
            "Successfully installed pyriemann-0.2.7\n"
          ]
        }
      ]
    },
    {
      "cell_type": "code",
      "source": [
        "from sklearn.pipeline import make_pipeline\n",
        "\n",
        "from mne.decoding import Vectorizer\n",
        "\n",
        "from sklearn.linear_model import LogisticRegression\n",
        "from sklearn.preprocessing import StandardScaler\n",
        "from sklearn.discriminant_analysis import LinearDiscriminantAnalysis as LDA\n",
        "\n",
        "from sklearn.model_selection import cross_val_score, StratifiedShuffleSplit, StratifiedKFold\n",
        "\n",
        "from pyriemann.estimation import ERPCovariances\n",
        "from pyriemann.tangentspace import TangentSpace\n",
        "from pyriemann.classification import MDM\n",
        "from pyriemann.spatialfilters import Xdawn\n",
        "import pandas as pd\n",
        "import seaborn as sns\n",
        "from datetime import datetime as dt\n",
        "\n",
        "from collections import OrderedDict\n"
      ],
      "metadata": {
        "id": "9yBSL9rbQj7i"
      },
      "execution_count": 31,
      "outputs": []
    },
    {
      "cell_type": "code",
      "source": [
        "import matplotlib.pyplot as plt"
      ],
      "metadata": {
        "id": "GIvhGZ5DQxhE"
      },
      "execution_count": 32,
      "outputs": []
    },
    {
      "cell_type": "code",
      "source": [
        "from sklearn.ensemble import RandomForestClassifier"
      ],
      "metadata": {
        "id": "l_ly6x6-SLt5"
      },
      "execution_count": 33,
      "outputs": []
    },
    {
      "cell_type": "code",
      "source": [
        "def cfepoch(epochsdata,events):\n",
        "    clfs = OrderedDict()\n",
        "\n",
        "    clfs['Vect + LR'] = make_pipeline(Vectorizer(), StandardScaler(), LogisticRegression())\n",
        "    clfs['Vect + RegLDA'] = make_pipeline(Vectorizer(), LDA(shrinkage='auto', solver='eigen'))\n",
        "    clfs['Vect + RF'] = make_pipeline(Vectorizer(),StandardScaler(),RandomForestClassifier(max_depth=None, random_state=0))\n",
        "\n",
        "\n",
        "    print(\"starting\", dt.now().strftime('%d-%m-%Y, %H:%M:%S (GMT+1)'))\n",
        "\n",
        "    # format data\n",
        "    X = epochsdata\n",
        "    # times = epochs.times\n",
        "    y = events\n",
        "\n",
        "    # define cross validation\n",
        "    cv = StratifiedShuffleSplit(n_splits=5, test_size=0.25, random_state=42)\n",
        "\n",
        "    # run cross validation for each pipeline\n",
        "    auc = []\n",
        "    methods = []\n",
        "    for m in clfs:\n",
        "        res = cross_val_score(clfs[m], X, y==1, scoring='roc_auc', cv=cv, n_jobs=-1)\n",
        "        auc.extend(res)\n",
        "        methods.extend([m]*len(res))\n",
        "        print(\"[{}] mean = {}/1\".format(m, np.mean(res)))\n",
        "\n",
        "    print(\"current \", dt.now().strftime('%d-%m-%Y, %H:%M:%S (GMT+1)'))\n",
        "    results = pd.DataFrame(data=auc, columns=['(AUC)'])\n",
        "    results['methods'] = methods\n",
        "\n",
        "    plt.figure(figsize=[8,4])\n",
        "    sns.barplot(data=results, x='(AUC)', y='methods', ci=None)\n",
        "    plt.xlim(0, 1)\n",
        "    sns.despine()"
      ],
      "metadata": {
        "id": "5Z4EqKH8Q-EB"
      },
      "execution_count": 34,
      "outputs": []
    },
    {
      "cell_type": "code",
      "source": [
        "cfepoch(x1[:3000,:12,:],y1[:3000])"
      ],
      "metadata": {
        "colab": {
          "base_uri": "https://localhost:8080/",
          "height": 366
        },
        "id": "9SQlyleSS5HQ",
        "outputId": "f34942fb-3d2e-44ac-8690-425574c28c0e"
      },
      "execution_count": 39,
      "outputs": [
        {
          "output_type": "stream",
          "name": "stdout",
          "text": [
            "starting 29-06-2022, 07:11:37 (GMT+1)\n",
            "[Vect + LR] mean = 0.6166447882600217/1\n",
            "[Vect + RegLDA] mean = 0.6424602963828543/1\n",
            "[Vect + RF] mean = 0.7210996365402271/1\n",
            "current  29-06-2022, 07:13:00 (GMT+1)\n"
          ]
        },
        {
          "output_type": "display_data",
          "data": {
            "text/plain": [
              "<Figure size 576x288 with 1 Axes>"
            ],
            "image/png": "[encoded data removed]"
          },
          "metadata": {
            "needs_background": "light"
          }
        }
      ]
    },
    {
      "cell_type": "code",
      "source": [
        "cfepoch(x2[:3000,:12,:],y2[:3000])"
      ],
      "metadata": {
        "colab": {
          "base_uri": "https://localhost:8080/",
          "height": 366
        },
        "id": "QjvBsnl4TK7x",
        "outputId": "02e7a0ed-99a8-4c24-c65e-1e4e0d49d947"
      },
      "execution_count": 40,
      "outputs": [
        {
          "output_type": "stream",
          "name": "stdout",
          "text": [
            "starting 29-06-2022, 07:13:14 (GMT+1)\n",
            "[Vect + LR] mean = 0.638906130253663/1\n",
            "[Vect + RegLDA] mean = 0.674570715310079/1\n",
            "[Vect + RF] mean = 0.720702031277269/1\n",
            "current  29-06-2022, 07:14:28 (GMT+1)\n"
          ]
        },
        {
          "output_type": "display_data",
          "data": {
            "text/plain": [
              "<Figure size 576x288 with 1 Axes>"
            ],
            "image/png": "[encoded data removed]"
          },
          "metadata": {
            "needs_background": "light"
          }
        }
      ]
    },
    {
      "cell_type": "code",
      "source": [
        "del x1,x2"
      ],
      "metadata": {
        "id": "wIxolxGKUjMR"
      },
      "execution_count": 44,
      "outputs": []
    },
    {
      "cell_type": "code",
      "source": [
        "x3 = epochs3.get_data()\n",
        "y3 = epochs3.events.T[2]"
      ],
      "metadata": {
        "colab": {
          "base_uri": "https://localhost:8080/"
        },
        "id": "BMELpJQSURT5",
        "outputId": "573635a3-75c3-47f5-b19f-bdea548e5694"
      },
      "execution_count": 43,
      "outputs": [
        {
          "output_type": "stream",
          "name": "stdout",
          "text": [
            "Using data from preloaded Raw for 15300 events and 169 original time points ...\n",
            "0 bad epochs dropped\n"
          ]
        }
      ]
    },
    {
      "cell_type": "code",
      "source": [
        "x3,y3=balanceepocheddata(x3,y3)"
      ],
      "metadata": {
        "id": "_q-gQUOwUtPI"
      },
      "execution_count": 45,
      "outputs": []
    },
    {
      "cell_type": "code",
      "source": [
        "x3,y3=shuffle(x3 ,y3 , random_state=0)"
      ],
      "metadata": {
        "id": "DHrzC4xnU5I6"
      },
      "execution_count": 46,
      "outputs": []
    },
    {
      "cell_type": "code",
      "source": [
        "cfepoch(x3[:3000,:12,:],y3[:3000])"
      ],
      "metadata": {
        "colab": {
          "base_uri": "https://localhost:8080/",
          "height": 366
        },
        "id": "r31EV88WU9-C",
        "outputId": "37655ae0-04e0-484c-e78c-fdab54acb41f"
      },
      "execution_count": 47,
      "outputs": [
        {
          "output_type": "stream",
          "name": "stdout",
          "text": [
            "starting 29-06-2022, 07:19:09 (GMT+1)\n",
            "[Vect + LR] mean = 0.6326764752748713/1\n",
            "[Vect + RegLDA] mean = 0.6671846663985613/1\n",
            "[Vect + RF] mean = 0.7211398523397249/1\n",
            "current  29-06-2022, 07:20:38 (GMT+1)\n"
          ]
        },
        {
          "output_type": "display_data",
          "data": {
            "text/plain": [
              "<Figure size 576x288 with 1 Axes>"
            ],
            "image/png": "[encoded data removed]"
          },
          "metadata": {
            "needs_background": "light"
          }
        }
      ]
    },
    {
      "cell_type": "code",
      "source": [
        "import math"
      ],
      "metadata": {
        "id": "Uqt0CALMYfaA"
      },
      "execution_count": 52,
      "outputs": []
    },
    {
      "cell_type": "code",
      "source": [
        "v1=(0.6166447882600217+0.6424602963828543+0.7210996365402271)/3\n",
        "v2=(0.638906130253663+0.674570715310079+0.720702031277269)/3\n",
        "v3=(0.6326764752748713+0.6671846663985613+0.7211398523397249)/3"
      ],
      "metadata": {
        "id": "cmW98s4wakBf"
      },
      "execution_count": 69,
      "outputs": []
    },
    {
      "cell_type": "markdown",
      "source": [
        "Average accuracy of Bandpass Filters by range"
      ],
      "metadata": {
        "id": "n8rxhKNpkscv"
      }
    },
    {
      "cell_type": "code",
      "source": [
        "names = ['1-20Hz', '1-40Hz', '0.1-40Hz']\n",
        "values = [v1,v2,v3]\n",
        "plt.title('Average accuracy of Bandpass Filters')\n",
        "\n",
        "plt.bar(names, values)\n",
        "\n",
        "plt.show()"
      ],
      "metadata": {
        "colab": {
          "base_uri": "https://localhost:8080/",
          "height": 281
        },
        "id": "5EBoADzvVlyx",
        "outputId": "78b66f2d-8017-437d-8d87-56d02c9b111d"
      },
      "execution_count": 70,
      "outputs": [
        {
          "output_type": "display_data",
          "data": {
            "text/plain": [
              "<Figure size 432x288 with 1 Axes>"
            ],
            "image/png": "[encoded data removed]"
          },
          "metadata": {
            "needs_background": "light"
          }
        }
      ]
    },
    {
      "cell_type": "code",
      "source": [
        "for i in values:\n",
        "  print(i)"
      ],
      "metadata": {
        "colab": {
          "base_uri": "https://localhost:8080/"
        },
        "id": "wX8lLzx-aW_n",
        "outputId": "6d466533-958d-4e65-ce60-4be4bfbaca27"
      },
      "execution_count": 73,
      "outputs": [
        {
          "output_type": "stream",
          "name": "stdout",
          "text": [
            "0.6600682403943677\n",
            "0.6780596256136704\n",
            "0.6736669980043858\n"
          ]
        }
      ]
    },
    {
      "cell_type": "markdown",
      "source": [
        "# 7 Filter Order Analysis"
      ],
      "metadata": {
        "id": "Jshj6QcCbkid"
      }
    },
    {
      "cell_type": "markdown",
      "source": [
        "slope analysis of filters"
      ],
      "metadata": {
        "id": "e89GwvNIkc6H"
      }
    },
    {
      "cell_type": "code",
      "source": [
        "from scipy.signal import butter, sosfilt, sosfreqz\n",
        "import numpy as np\n",
        "import matplotlib.pyplot as plt\n",
        "\n",
        "s_freq = 240\n",
        "lfreq_r = 1\n",
        "hfreq_r = 40\n",
        "\n",
        "def butter_bandpass_filter(data, lowcut, highcut, fs, order=5):\n",
        "    sos = butter(order, [lowcut, highcut], fs=fs, btype='band', output='sos')\n",
        "    y = sosfilt(sos, data)\n",
        "    return y\n",
        "\n",
        "# Plot the frequency response for a few different orders.\n",
        "plt.figure(1)\n",
        "plt.clf()\n",
        "for order in [2, 3, 4, 5, 6, 7, 8, 9]:\n",
        "    sos = butter(order, [lfreq_r, hfreq_r], fs = s_freq, btype='band', output='sos')\n",
        "    w, h = sosfreqz(sos, fs=s_freq, worN=2000)\n",
        "    slope, intercept = np.polyfit(w, abs(h),1)\n",
        "    print(order, slope)\n",
        "    plt.plot(w, abs(h), label=\"order = %d\" % order)\n",
        "    y = sosfilt(sos,signal)\n",
        "\n",
        "plt.plot([0, 0.5 * s_freq], [np.sqrt(0.5), np.sqrt(0.5)],'--', label='sqrt(0.5)')\n",
        "plt.xlabel('Frequency (Hz)')\n",
        "plt.ylabel('Gain')\n",
        "plt.grid(True)\n",
        "plt.legend(loc='best')"
      ],
      "metadata": {
        "colab": {
          "base_uri": "https://localhost:8080/",
          "height": 435
        },
        "id": "waf6c4lKbi2B",
        "outputId": "8ca27f93-996b-47b5-bfbe-0575fbf355fd"
      },
      "execution_count": 75,
      "outputs": [
        {
          "output_type": "stream",
          "name": "stdout",
          "text": [
            "2 -0.010590189078479643\n",
            "3 -0.01097545041595937\n",
            "4 -0.011063203404488298\n",
            "5 -0.011068977096922119\n",
            "6 -0.011050621405086076\n",
            "7 -0.011026108195840826\n",
            "8 -0.011001420249456134\n",
            "9 -0.01097850772671124\n"
          ]
        },
        {
          "output_type": "execute_result",
          "data": {
            "text/plain": [
              "<matplotlib.legend.Legend at 0x7f247e2fdf90>"
            ]
          },
          "metadata": {},
          "execution_count": 75
        },
        {
          "output_type": "display_data",
          "data": {
            "text/plain": [
              "<Figure size 432x288 with 1 Axes>"
            ],
            "image/png": "[encoded data removed]"
          },
          "metadata": {
            "needs_background": "light"
          }
        }
      ]
    },
    {
      "cell_type": "code",
      "source": [
        "del epochs3\n",
        "del x3\n",
        "del y3"
      ],
      "metadata": {
        "id": "XtqIFZ7BhPot"
      },
      "execution_count": 79,
      "outputs": []
    },
    {
      "cell_type": "code",
      "source": [
        "x4 = epochs4.get_data()\n",
        "y4 = epochs4.events.T[2]"
      ],
      "metadata": {
        "colab": {
          "base_uri": "https://localhost:8080/"
        },
        "id": "3nQDsJ32huYR",
        "outputId": "dd5a6880-93d3-40b2-cdcf-5723328aaf3a"
      },
      "execution_count": 81,
      "outputs": [
        {
          "output_type": "stream",
          "name": "stdout",
          "text": [
            "Using data from preloaded Raw for 15300 events and 169 original time points ...\n",
            "0 bad epochs dropped\n"
          ]
        }
      ]
    },
    {
      "cell_type": "code",
      "source": [
        "x4,y4=balanceepocheddata(x4,y4)"
      ],
      "metadata": {
        "id": "YMGXJ9XbhqL-"
      },
      "execution_count": 82,
      "outputs": []
    },
    {
      "cell_type": "code",
      "source": [
        "x4,y4=shuffle(x4 ,y4 , random_state=0)"
      ],
      "metadata": {
        "id": "CdX-bxOHho4I"
      },
      "execution_count": 83,
      "outputs": []
    },
    {
      "cell_type": "code",
      "source": [
        "X_2 = butter_bandpass_filter(x4, lfreq_r, hfreq_r, s_freq, order=2)\n",
        "X_3 = butter_bandpass_filter(x4, lfreq_r, hfreq_r, s_freq, order=3)\n"
      ],
      "metadata": {
        "id": "XZ5Z8Nf7fVfn"
      },
      "execution_count": 84,
      "outputs": []
    },
    {
      "cell_type": "markdown",
      "source": [
        "comparison of different order filters"
      ],
      "metadata": {
        "id": "BbjkLu4Lkfr-"
      }
    },
    {
      "cell_type": "code",
      "source": [
        "cfepoch(X_2[:3000,:12,:],y4[:3000])"
      ],
      "metadata": {
        "colab": {
          "base_uri": "https://localhost:8080/",
          "height": 366
        },
        "id": "KiAxzYMXh9dy",
        "outputId": "6d687e3c-bfd5-4ba5-9b70-a180a1be7ea8"
      },
      "execution_count": 85,
      "outputs": [
        {
          "output_type": "stream",
          "name": "stdout",
          "text": [
            "starting 29-06-2022, 08:17:24 (GMT+1)\n",
            "[Vect + LR] mean = 0.6397210692849934/1\n",
            "[Vect + RegLDA] mean = 0.6788396603661914/1\n",
            "[Vect + RF] mean = 0.7323297088527874/1\n",
            "current  29-06-2022, 08:18:59 (GMT+1)\n"
          ]
        },
        {
          "output_type": "display_data",
          "data": {
            "text/plain": [
              "<Figure size 576x288 with 1 Axes>"
            ],
            "image/png": "[encoded data removed]"
          },
          "metadata": {
            "needs_background": "light"
          }
        }
      ]
    },
    {
      "cell_type": "code",
      "source": [
        "cfepoch(X_3[:3000,:12,:],y4[:3000])"
      ],
      "metadata": {
        "colab": {
          "base_uri": "https://localhost:8080/",
          "height": 366
        },
        "id": "hlALf5YUiL1l",
        "outputId": "44f78f42-66f4-4336-c177-6a4bb1a733ac"
      },
      "execution_count": 86,
      "outputs": [
        {
          "output_type": "stream",
          "name": "stdout",
          "text": [
            "starting 29-06-2022, 08:18:59 (GMT+1)\n",
            "[Vect + LR] mean = 0.6365675435734394/1\n",
            "[Vect + RegLDA] mean = 0.6747391663947674/1\n",
            "[Vect + RF] mean = 0.7342198514291784/1\n",
            "current  29-06-2022, 08:20:35 (GMT+1)\n"
          ]
        },
        {
          "output_type": "display_data",
          "data": {
            "text/plain": [
              "<Figure size 576x288 with 1 Axes>"
            ],
            "image/png": "[encoded data removed]"
          },
          "metadata": {
            "needs_background": "light"
          }
        }
      ]
    },
    {
      "cell_type": "code",
      "source": [
        "del X_2\n",
        "del X_3"
      ],
      "metadata": {
        "id": "MtnhuBLoiOsO"
      },
      "execution_count": 87,
      "outputs": []
    },
    {
      "cell_type": "code",
      "source": [
        "X_4 = butter_bandpass_filter(x4, lfreq_r, hfreq_r, s_freq, order=4)\n",
        "X_5 = butter_bandpass_filter(x4, lfreq_r, hfreq_r, s_freq, order=5)\n"
      ],
      "metadata": {
        "id": "F5ePIzlOh8MB"
      },
      "execution_count": 88,
      "outputs": []
    },
    {
      "cell_type": "code",
      "source": [
        "cfepoch(X_4[:3000,:12,:],y4[:3000])"
      ],
      "metadata": {
        "colab": {
          "base_uri": "https://localhost:8080/",
          "height": 366
        },
        "id": "dhIMjFi2iXMN",
        "outputId": "494039d9-a03c-43e6-ce65-433d25394487"
      },
      "execution_count": 90,
      "outputs": [
        {
          "output_type": "stream",
          "name": "stdout",
          "text": [
            "starting 29-06-2022, 08:22:22 (GMT+1)\n",
            "[Vect + LR] mean = 0.6384022945769374/1\n",
            "[Vect + RegLDA] mean = 0.6703002526766271/1\n",
            "[Vect + RF] mean = 0.7163078860906449/1\n",
            "current  29-06-2022, 08:23:35 (GMT+1)\n"
          ]
        },
        {
          "output_type": "display_data",
          "data": {
            "text/plain": [
              "<Figure size 576x288 with 1 Axes>"
            ],
            "image/png": "[encoded data removed]"
          },
          "metadata": {
            "needs_background": "light"
          }
        }
      ]
    },
    {
      "cell_type": "code",
      "source": [
        "del X_4"
      ],
      "metadata": {
        "id": "7xKATdSjjtT2"
      },
      "execution_count": 91,
      "outputs": []
    },
    {
      "cell_type": "code",
      "source": [
        "cfepoch(X_5[:3000,:12,:],y4[:3000])"
      ],
      "metadata": {
        "colab": {
          "base_uri": "https://localhost:8080/",
          "height": 366
        },
        "id": "IDOsgEl0iYja",
        "outputId": "d9256e55-0ae9-409d-9d2f-d13be1fe4747"
      },
      "execution_count": 92,
      "outputs": [
        {
          "output_type": "stream",
          "name": "stdout",
          "text": [
            "starting 29-06-2022, 08:23:49 (GMT+1)\n",
            "[Vect + LR] mean = 0.6352654622161182/1\n",
            "[Vect + RegLDA] mean = 0.6656200441615006/1\n",
            "[Vect + RF] mean = 0.7249208962811767/1\n",
            "current  29-06-2022, 08:25:03 (GMT+1)\n"
          ]
        },
        {
          "output_type": "display_data",
          "data": {
            "text/plain": [
              "<Figure size 576x288 with 1 Axes>"
            ],
            "image/png": "[encoded data removed]"
          },
          "metadata": {
            "needs_background": "light"
          }
        }
      ]
    },
    {
      "cell_type": "code",
      "source": [
        "del X_5"
      ],
      "metadata": {
        "id": "oJq0HxX2j4EH"
      },
      "execution_count": 93,
      "outputs": []
    },
    {
      "cell_type": "code",
      "source": [
        "X_6 = butter_bandpass_filter(x4, lfreq_r, hfreq_r, s_freq, order=6)"
      ],
      "metadata": {
        "id": "rvlCUZFXjTpW"
      },
      "execution_count": 94,
      "outputs": []
    },
    {
      "cell_type": "code",
      "source": [
        "cfepoch(X_6[:3000,:12,:],y4[:3000])"
      ],
      "metadata": {
        "colab": {
          "base_uri": "https://localhost:8080/",
          "height": 366
        },
        "id": "Cmuy0pSxiZmV",
        "outputId": "b4253010-8965-42cf-d0da-a621b5d16b6d"
      },
      "execution_count": 95,
      "outputs": [
        {
          "output_type": "stream",
          "name": "stdout",
          "text": [
            "starting 29-06-2022, 08:25:31 (GMT+1)\n",
            "[Vect + LR] mean = 0.6310071402013825/1\n",
            "[Vect + RegLDA] mean = 0.6620173155574441/1\n",
            "[Vect + RF] mean = 0.7269612790141817/1\n",
            "current  29-06-2022, 08:26:46 (GMT+1)\n"
          ]
        },
        {
          "output_type": "display_data",
          "data": {
            "text/plain": [
              "<Figure size 576x288 with 1 Axes>"
            ],
            "image/png": "[encoded data removed]"
          },
          "metadata": {
            "needs_background": "light"
          }
        }
      ]
    },
    {
      "cell_type": "code",
      "source": [
        "del X_6"
      ],
      "metadata": {
        "id": "SuPXHZ09uAEj"
      },
      "execution_count": 111,
      "outputs": []
    },
    {
      "cell_type": "markdown",
      "source": [
        "Average accuracy of Bandpass Filters by order"
      ],
      "metadata": {
        "id": "Yz6z4co2kl4P"
      }
    },
    {
      "cell_type": "code",
      "source": [
        "avgs=[(0.6397210692849934+0.6788396603661914+0.7323297088527874)/3,(0.6365675435734394+0.6747391663947674+0.7342198514291784)/3,(0.6384022945769374+0.6703002526766271+0.7163078860906449)/3,(0.6352654622161182+0.6656200441615006+0.7249208962811767)/3,(0.6310071402013825+0.6620173155574441+0.7269612790141817)/3]"
      ],
      "metadata": {
        "id": "uIbbA1-0ixIv"
      },
      "execution_count": 96,
      "outputs": []
    },
    {
      "cell_type": "code",
      "source": [
        "names = ['2', '3', '4', '5', '6']\n",
        "values = avgs\n",
        "plt.title('Average accuracy of Bandpass Filters')\n",
        "\n",
        "plt.bar(names, values)\n",
        "\n",
        "plt.show()"
      ],
      "metadata": {
        "colab": {
          "base_uri": "https://localhost:8080/",
          "height": 281
        },
        "id": "4SJRVG8ykWcN",
        "outputId": "8eb16794-8159-4892-dd5e-caec9bd8127e"
      },
      "execution_count": 97,
      "outputs": [
        {
          "output_type": "display_data",
          "data": {
            "text/plain": [
              "<Figure size 432x288 with 1 Axes>"
            ],
            "image/png": "[encoded data removed]"
          },
          "metadata": {
            "needs_background": "light"
          }
        }
      ]
    },
    {
      "cell_type": "code",
      "source": [
        "for i in avgs:\n",
        "  print(i)"
      ],
      "metadata": {
        "colab": {
          "base_uri": "https://localhost:8080/"
        },
        "id": "DoYeUXsbkmLJ",
        "outputId": "4a31b955-8560-46bc-af33-60fbc2fa1710"
      },
      "execution_count": 98,
      "outputs": [
        {
          "output_type": "stream",
          "name": "stdout",
          "text": [
            "0.6836301461679907\n",
            "0.6818421871324617\n",
            "0.6750034777814031\n",
            "0.6752688008862652\n",
            "0.6733285782576695\n"
          ]
        }
      ]
    },
    {
      "cell_type": "markdown",
      "source": [
        "# 8 Time Window Analysis"
      ],
      "metadata": {
        "id": "c-nKwNL8pB4N"
      }
    },
    {
      "cell_type": "code",
      "source": [
        "x_arr_2=raw_arr.copy().filter(1,40)\n",
        "x_arr_2.set_montage('biosemi64',on_missing='warn')"
      ],
      "metadata": {
        "colab": {
          "base_uri": "https://localhost:8080/",
          "height": 511
        },
        "id": "H2K7Yxsmp3iU",
        "outputId": "8e4fdb4c-933a-49c9-9d46-f11bd7dcb05a"
      },
      "execution_count": 18,
      "outputs": [
        {
          "output_type": "stream",
          "name": "stdout",
          "text": [
            "Filtering raw data in 1 contiguous segment\n",
            "Setting up band-pass filter from 1 - 40 Hz\n",
            "\n",
            "FIR filter parameters\n",
            "---------------------\n",
            "Designing a one-pass, zero-phase, non-causal bandpass filter:\n",
            "- Windowed time-domain design (firwin) method\n",
            "- Hamming window with 0.0194 passband ripple and 53 dB stopband attenuation\n",
            "- Lower passband edge: 1.00\n",
            "- Lower transition bandwidth: 1.00 Hz (-6 dB cutoff frequency: 0.50 Hz)\n",
            "- Upper passband edge: 40.00 Hz\n",
            "- Upper transition bandwidth: 10.00 Hz (-6 dB cutoff frequency: 45.00 Hz)\n",
            "- Filter length: 793 samples (3.304 sec)\n",
            "\n"
          ]
        },
        {
          "output_type": "execute_result",
          "data": {
            "text/plain": [
              "<RawArray | 66 x 662490 (2760.4 s), ~333.7 MB, data loaded>"
            ],
            "text/html": [
              "<table class=\"table table-hover table-striped table-sm table-responsive small\">\n",
              "    <tr>\n",
              "        <th>Measurement date</th>\n",
              "        \n",
              "        <td>Unknown</td>\n",
              "        \n",
              "    </tr>\n",
              "    <tr>\n",
              "        <th>Experimenter</th>\n",
              "        \n",
              "        <td>Unknown</td>\n",
              "        \n",
              "    </tr>\n",
              "        <th>Participant</th>\n",
              "        \n",
              "        <td>Unknown</td>\n",
              "        \n",
              "    </tr>\n",
              "    <tr>\n",
              "        <th>Digitized points</th>\n",
              "        \n",
              "        <td>0 points</td>\n",
              "        \n",
              "    </tr>\n",
              "    <tr>\n",
              "        <th>Good channels</th>\n",
              "        <td>64 EEG, 2 misc</td>\n",
              "    </tr>\n",
              "    <tr>\n",
              "        <th>Bad channels</th>\n",
              "        <td>None</td>\n",
              "    </tr>\n",
              "    <tr>\n",
              "        <th>EOG channels</th>\n",
              "        <td>Not available</td>\n",
              "    </tr>\n",
              "    <tr>\n",
              "        <th>ECG channels</th>\n",
              "        <td>Not available</td>\n",
              "    \n",
              "    <tr>\n",
              "        <th>Sampling frequency</th>\n",
              "        <td>240.00 Hz</td>\n",
              "    </tr>\n",
              "    \n",
              "    \n",
              "    <tr>\n",
              "        <th>Highpass</th>\n",
              "        <td>1.00 Hz</td>\n",
              "    </tr>\n",
              "    \n",
              "    \n",
              "    <tr>\n",
              "        <th>Lowpass</th>\n",
              "        <td>40.00 Hz</td>\n",
              "    </tr>\n",
              "    \n",
              "    \n",
              "    \n",
              "    <tr>\n",
              "        <th>Duration</th>\n",
              "        <td>00:46:00 (HH:MM:SS)</td>\n",
              "    </tr>\n",
              "</table>"
            ]
          },
          "metadata": {},
          "execution_count": 18
        }
      ]
    },
    {
      "cell_type": "code",
      "source": [
        "epochsa = mne.Epochs(x_arr_2, events_st, { 'n300':1, 'p300':2 }, 0, 0.7, baseline=(0,0.7))"
      ],
      "metadata": {
        "colab": {
          "base_uri": "https://localhost:8080/"
        },
        "id": "Y2SMBmrUpuhI",
        "outputId": "c0f6e413-bdcc-4390-a93c-05e58db831bf"
      },
      "execution_count": 19,
      "outputs": [
        {
          "output_type": "stream",
          "name": "stdout",
          "text": [
            "Not setting metadata\n",
            "15300 matching events found\n",
            "Applying baseline correction (mode: mean)\n",
            "0 projection items activated\n"
          ]
        }
      ]
    },
    {
      "cell_type": "code",
      "source": [
        "evoked = epochsa.average()"
      ],
      "metadata": {
        "id": "ZYFKMrL6oTp0"
      },
      "execution_count": 101,
      "outputs": []
    },
    {
      "cell_type": "code",
      "source": [
        "p300s = epochsa['p300'].average()\n",
        "n300s = epochsa['n300'].average()"
      ],
      "metadata": {
        "id": "KpY9nOwkqNFI"
      },
      "execution_count": 102,
      "outputs": []
    },
    {
      "cell_type": "code",
      "source": [
        "l=[]\n",
        "for i in range(64):\n",
        "  l.append(i)"
      ],
      "metadata": {
        "id": "x6zk0bEZqPts"
      },
      "execution_count": 103,
      "outputs": []
    },
    {
      "cell_type": "markdown",
      "source": [
        "average p300 signal shape"
      ],
      "metadata": {
        "id": "eqzamlxtqdxM"
      }
    },
    {
      "cell_type": "code",
      "source": [
        "roi_dict = dict(p300=l)\n",
        "roi_evoked = mne.channels.combine_channels(p300s, roi_dict, method='mean')\n",
        "print(roi_evoked.info['ch_names'])\n",
        "roi_evoked.plot()"
      ],
      "metadata": {
        "colab": {
          "base_uri": "https://localhost:8080/",
          "height": 534
        },
        "id": "UCtG6C6mqR_4",
        "outputId": "c8e5efbe-8fd8-4cf7-fb24-2ee75a098b04"
      },
      "execution_count": 104,
      "outputs": [
        {
          "output_type": "stream",
          "name": "stdout",
          "text": [
            "['p300']\n",
            "Need more than one channel to make topography for eeg. Disabling interactivity.\n"
          ]
        },
        {
          "output_type": "display_data",
          "data": {
            "text/plain": [
              "<Figure size 460.8x216 with 1 Axes>"
            ],
            "image/png": "[encoded data removed]"
          },
          "metadata": {
            "needs_background": "light"
          }
        },
        {
          "output_type": "execute_result",
          "data": {
            "text/plain": [
              "<Figure size 460.8x216 with 1 Axes>"
            ],
            "image/png": "[encoded data removed]"
          },
          "metadata": {},
          "execution_count": 104
        }
      ]
    },
    {
      "cell_type": "markdown",
      "source": [
        "average non p300 signal shape"
      ],
      "metadata": {
        "id": "Szmx6nceqhE0"
      }
    },
    {
      "cell_type": "code",
      "source": [
        "roi_dict = dict(p300=l)\n",
        "roi_evoked = mne.channels.combine_channels(n300s, roi_dict, method='mean')\n",
        "print(roi_evoked.info['ch_names'])\n",
        "roi_evoked.plot()"
      ],
      "metadata": {
        "colab": {
          "base_uri": "https://localhost:8080/",
          "height": 534
        },
        "id": "JYefI6quqZY1",
        "outputId": "ebe3227e-e493-4ba5-a3ff-fa6439cbb031"
      },
      "execution_count": 105,
      "outputs": [
        {
          "output_type": "stream",
          "name": "stdout",
          "text": [
            "['p300']\n",
            "Need more than one channel to make topography for eeg. Disabling interactivity.\n"
          ]
        },
        {
          "output_type": "display_data",
          "data": {
            "text/plain": [
              "<Figure size 460.8x216 with 1 Axes>"
            ],
            "image/png": "[encoded data removed]"
          },
          "metadata": {
            "needs_background": "light"
          }
        },
        {
          "output_type": "execute_result",
          "data": {
            "text/plain": [
              "<Figure size 460.8x216 with 1 Axes>"
            ],
            "image/png": "[encoded data removed]"
          },
          "metadata": {},
          "execution_count": 105
        }
      ]
    },
    {
      "cell_type": "code",
      "source": [
        "xa = epochsa.get_data()\n",
        "ya = epochsa.events.T[2]\n",
        "xa,ya=balanceepocheddata(xa,ya)\n",
        "xa,ya=shuffle(xa ,ya , random_state=0)"
      ],
      "metadata": {
        "colab": {
          "base_uri": "https://localhost:8080/"
        },
        "id": "ROaxcYlUsf-D",
        "outputId": "dea51ed2-f103-4b88-f06d-20c145981017"
      },
      "execution_count": 108,
      "outputs": [
        {
          "output_type": "stream",
          "name": "stdout",
          "text": [
            "Using data from preloaded Raw for 15300 events and 169 original time points ...\n"
          ]
        }
      ]
    },
    {
      "cell_type": "markdown",
      "source": [
        "comparing time windows"
      ],
      "metadata": {
        "id": "sPydTM2SkWHe"
      }
    },
    {
      "cell_type": "code",
      "source": [
        "cfepoch(xa[:3000,:12,:],ya[:3000])"
      ],
      "metadata": {
        "colab": {
          "base_uri": "https://localhost:8080/",
          "height": 366
        },
        "id": "3koh3e9asqRE",
        "outputId": "c29f1f23-e010-455a-b09c-bb8e71771ddd"
      },
      "execution_count": 109,
      "outputs": [
        {
          "output_type": "stream",
          "name": "stdout",
          "text": [
            "starting 29-06-2022, 09:06:10 (GMT+1)\n",
            "[Vect + LR] mean = 0.638906130253663/1\n",
            "[Vect + RegLDA] mean = 0.674570715310079/1\n",
            "[Vect + RF] mean = 0.720702031277269/1\n",
            "current  29-06-2022, 09:07:32 (GMT+1)\n"
          ]
        },
        {
          "output_type": "display_data",
          "data": {
            "text/plain": [
              "<Figure size 576x288 with 1 Axes>"
            ],
            "image/png": "[encoded data removed]"
          },
          "metadata": {
            "needs_background": "light"
          }
        }
      ]
    },
    {
      "cell_type": "code",
      "source": [
        "del xa\n",
        "del ya\n",
        "del epochsa"
      ],
      "metadata": {
        "id": "5RYddAzhtX0L"
      },
      "execution_count": 110,
      "outputs": []
    },
    {
      "cell_type": "code",
      "source": [
        "epochsb = mne.Epochs(x_arr_2, events_st, { 'n300':1, 'p300':2 }, 0.3, 0.7, baseline=(0.3,0.7))"
      ],
      "metadata": {
        "colab": {
          "base_uri": "https://localhost:8080/"
        },
        "id": "QA67jTl_pwfI",
        "outputId": "f12cea6c-4c5a-4d2d-95bb-7824cc80d753"
      },
      "execution_count": 115,
      "outputs": [
        {
          "output_type": "stream",
          "name": "stdout",
          "text": [
            "Not setting metadata\n",
            "15300 matching events found\n",
            "Applying baseline correction (mode: mean)\n",
            "0 projection items activated\n"
          ]
        }
      ]
    },
    {
      "cell_type": "code",
      "source": [
        "def balanceepocheddata(data,labels):\n",
        "  over = SMOTE(sampling_strategy=0.6,random_state=0)\n",
        "  under = RandomUnderSampler(sampling_strategy=0.6,random_state=0)\n",
        "\n",
        "  steps = [('o', over), ('u', under)]\n",
        "  pipeline = Pipeline(steps=steps)\n",
        "  \n",
        "  data2=np.moveaxis(data,1,0)\n",
        "  data2=data2[:64,:,:]\n",
        "  data3=np.empty((64,20400,97))\n",
        "  for i in range(64):\n",
        "    x2,y2 = pipeline.fit_resample(data2[i], labels)\n",
        "    data3[i]=x2\n",
        "  \n",
        "  data3=np.moveaxis(data3,1,0)\n",
        "\n",
        "  return data3,y2"
      ],
      "metadata": {
        "id": "Tl2ZfnqmulVD"
      },
      "execution_count": 117,
      "outputs": []
    },
    {
      "cell_type": "code",
      "source": [
        "xb = epochsb.get_data()\n",
        "yb = epochsb.events.T[2]\n",
        "xb,yb=balanceepocheddata(xb,yb)\n",
        "xb,yb=shuffle(xb ,yb , random_state=0)"
      ],
      "metadata": {
        "colab": {
          "base_uri": "https://localhost:8080/"
        },
        "id": "FDVjYcIBt3Fl",
        "outputId": "b485eb5d-c84a-4a8c-9798-3d660e6279ec"
      },
      "execution_count": 118,
      "outputs": [
        {
          "output_type": "stream",
          "name": "stdout",
          "text": [
            "Using data from preloaded Raw for 15300 events and 97 original time points ...\n"
          ]
        }
      ]
    },
    {
      "cell_type": "code",
      "source": [
        "cfepoch(xb[:3000,:12,:],yb[:3000])"
      ],
      "metadata": {
        "colab": {
          "base_uri": "https://localhost:8080/",
          "height": 366
        },
        "id": "W5f1VAQtuJIk",
        "outputId": "a41381d2-f94d-4128-b604-26e0458d28a0"
      },
      "execution_count": 119,
      "outputs": [
        {
          "output_type": "stream",
          "name": "stdout",
          "text": [
            "starting 29-06-2022, 09:11:39 (GMT+1)\n",
            "[Vect + LR] mean = 0.6220761975582181/1\n",
            "[Vect + RegLDA] mean = 0.6371639514678767/1\n",
            "[Vect + RF] mean = 0.7031216565874238/1\n",
            "current  29-06-2022, 09:12:18 (GMT+1)\n"
          ]
        },
        {
          "output_type": "display_data",
          "data": {
            "text/plain": [
              "<Figure size 576x288 with 1 Axes>"
            ],
            "image/png": "[encoded data removed]"
          },
          "metadata": {
            "needs_background": "light"
          }
        }
      ]
    },
    {
      "cell_type": "code",
      "source": [
        "del xb\n",
        "del yb\n",
        "del epochsb"
      ],
      "metadata": {
        "id": "sHP3VCEWvKP7"
      },
      "execution_count": 120,
      "outputs": []
    },
    {
      "cell_type": "code",
      "source": [
        "epochsc = mne.Epochs(x_arr_2, events_st, { 'n300':1, 'p300':2 }, 0.2, 0.7, baseline=(0.2,0.7))"
      ],
      "metadata": {
        "colab": {
          "base_uri": "https://localhost:8080/"
        },
        "id": "M4EH-rwyszTU",
        "outputId": "656bc266-de73-4203-a7dc-888d697c8183"
      },
      "execution_count": 121,
      "outputs": [
        {
          "output_type": "stream",
          "name": "stdout",
          "text": [
            "Not setting metadata\n",
            "15300 matching events found\n",
            "Applying baseline correction (mode: mean)\n",
            "0 projection items activated\n"
          ]
        }
      ]
    },
    {
      "cell_type": "code",
      "source": [
        "epochsc.get_data().shape"
      ],
      "metadata": {
        "colab": {
          "base_uri": "https://localhost:8080/"
        },
        "id": "BfbDazVOvPwq",
        "outputId": "d1ad8fef-8625-48e9-93ef-371352d7fc49"
      },
      "execution_count": 123,
      "outputs": [
        {
          "output_type": "stream",
          "name": "stdout",
          "text": [
            "Using data from preloaded Raw for 15300 events and 121 original time points ...\n",
            "0 bad epochs dropped\n"
          ]
        },
        {
          "output_type": "execute_result",
          "data": {
            "text/plain": [
              "(15300, 66, 121)"
            ]
          },
          "metadata": {},
          "execution_count": 123
        }
      ]
    },
    {
      "cell_type": "code",
      "source": [
        "def balanceepocheddata(data,labels):\n",
        "  over = SMOTE(sampling_strategy=0.6,random_state=0)\n",
        "  under = RandomUnderSampler(sampling_strategy=0.6,random_state=0)\n",
        "\n",
        "  steps = [('o', over), ('u', under)]\n",
        "  pipeline = Pipeline(steps=steps)\n",
        "  \n",
        "  data2=np.moveaxis(data,1,0)\n",
        "  data2=data2[:64,:,:]\n",
        "  data3=np.empty((64,20400,121))\n",
        "  for i in range(64):\n",
        "    x2,y2 = pipeline.fit_resample(data2[i], labels)\n",
        "    data3[i]=x2\n",
        "  \n",
        "  data3=np.moveaxis(data3,1,0)\n",
        "\n",
        "  return data3,y2"
      ],
      "metadata": {
        "id": "k7K1hiOmu6uE"
      },
      "execution_count": 124,
      "outputs": []
    },
    {
      "cell_type": "code",
      "source": [
        "xc = epochsc.get_data()\n",
        "yc = epochsc.events.T[2]\n",
        "xc,yc=balanceepocheddata(xc,yc)\n",
        "xc,yc=shuffle(xc ,yc , random_state=0)"
      ],
      "metadata": {
        "colab": {
          "base_uri": "https://localhost:8080/"
        },
        "id": "zqpLx1y2uvIq",
        "outputId": "35371ad1-acc5-4712-98c1-715ef49a7189"
      },
      "execution_count": 125,
      "outputs": [
        {
          "output_type": "stream",
          "name": "stdout",
          "text": [
            "Using data from preloaded Raw for 15300 events and 121 original time points ...\n"
          ]
        }
      ]
    },
    {
      "cell_type": "code",
      "source": [
        "cfepoch(xc[:3000,:12,:],yc[:3000])"
      ],
      "metadata": {
        "colab": {
          "base_uri": "https://localhost:8080/",
          "height": 366
        },
        "id": "XQK7-g_3u4Yr",
        "outputId": "296346ec-2e4a-4124-a014-a38e03c48451"
      },
      "execution_count": 126,
      "outputs": [
        {
          "output_type": "stream",
          "name": "stdout",
          "text": [
            "starting 29-06-2022, 09:15:02 (GMT+1)\n",
            "[Vect + LR] mean = 0.6309449195304616/1\n",
            "[Vect + RegLDA] mean = 0.6511954715492188/1\n",
            "[Vect + RF] mean = 0.7058024569577127/1\n",
            "current  29-06-2022, 09:15:52 (GMT+1)\n"
          ]
        },
        {
          "output_type": "display_data",
          "data": {
            "text/plain": [
              "<Figure size 576x288 with 1 Axes>"
            ],
            "image/png": "[encoded data removed]"
          },
          "metadata": {
            "needs_background": "light"
          }
        }
      ]
    },
    {
      "cell_type": "code",
      "source": [
        "del xc\n",
        "del yc\n",
        "del epochsc"
      ],
      "metadata": {
        "id": "sRg0BMgyv3aU"
      },
      "execution_count": 127,
      "outputs": []
    },
    {
      "cell_type": "code",
      "source": [
        "epochsd = mne.Epochs(x_arr_2, events_st, { 'n300':1, 'p300':2 }, 0, 1.0, baseline=(0,1.0))"
      ],
      "metadata": {
        "colab": {
          "base_uri": "https://localhost:8080/"
        },
        "id": "bRFj9lT5v8Ea",
        "outputId": "6a9bdee6-7308-4f7e-8e05-bcedf0c08a9b"
      },
      "execution_count": 18,
      "outputs": [
        {
          "output_type": "stream",
          "name": "stdout",
          "text": [
            "Not setting metadata\n",
            "15300 matching events found\n",
            "Applying baseline correction (mode: mean)\n",
            "0 projection items activated\n"
          ]
        }
      ]
    },
    {
      "cell_type": "code",
      "source": [
        "def balanceepocheddata(data,labels):\n",
        "  over = SMOTE(sampling_strategy=0.6,random_state=0)\n",
        "  under = RandomUnderSampler(sampling_strategy=0.6,random_state=0)\n",
        "\n",
        "  steps = [('o', over), ('u', under)]\n",
        "  pipeline = Pipeline(steps=steps)\n",
        "  \n",
        "  data2=np.moveaxis(data,1,0)\n",
        "  data2=data2[:64,:,:]\n",
        "  data3=np.empty((64,20400,241))\n",
        "  for i in range(64):\n",
        "    x2,y2 = pipeline.fit_resample(data2[i], labels)\n",
        "    data3[i]=x2\n",
        "  \n",
        "  data3=np.moveaxis(data3,1,0)\n",
        "\n",
        "  return data3,y2"
      ],
      "metadata": {
        "id": "yyO51RH-wJMT"
      },
      "execution_count": 19,
      "outputs": []
    },
    {
      "cell_type": "code",
      "source": [
        "from imblearn.pipeline import Pipeline"
      ],
      "metadata": {
        "id": "GIXuJ0yDxJ9E"
      },
      "execution_count": 21,
      "outputs": []
    },
    {
      "cell_type": "code",
      "source": [
        "xd = epochsd.get_data()\n",
        "yd = epochsd.events.T[2]\n",
        "xd,yd=balanceepocheddata(xd,yd)\n"
      ],
      "metadata": {
        "colab": {
          "base_uri": "https://localhost:8080/",
          "height": 218
        },
        "id": "rE64fCUOwG_E",
        "outputId": "685f7655-8610-4dd1-82e4-48ec1d9b9f2b"
      },
      "execution_count": 22,
      "outputs": [
        {
          "output_type": "stream",
          "name": "stdout",
          "text": [
            "Using data from preloaded Raw for 15300 events and 241 original time points ...\n"
          ]
        },
        {
          "output_type": "error",
          "ename": "NameError",
          "evalue": "ignored",
          "traceback": [
            "\u001b[0;31m---------------------------------------------------------------------------\u001b[0m",
            "\u001b[0;31mNameError\u001b[0m                                 Traceback (most recent call last)",
            "\u001b[0;32m<ipython-input-22-3d0b1b8ac63a>\u001b[0m in \u001b[0;36m<module>\u001b[0;34m()\u001b[0m\n\u001b[1;32m      2\u001b[0m \u001b[0myd\u001b[0m \u001b[0;34m=\u001b[0m \u001b[0mepochsd\u001b[0m\u001b[0;34m.\u001b[0m\u001b[0mevents\u001b[0m\u001b[0;34m.\u001b[0m\u001b[0mT\u001b[0m\u001b[0;34m[\u001b[0m\u001b[0;36m2\u001b[0m\u001b[0;34m]\u001b[0m\u001b[0;34m\u001b[0m\u001b[0;34m\u001b[0m\u001b[0m\n\u001b[1;32m      3\u001b[0m \u001b[0mxd\u001b[0m\u001b[0;34m,\u001b[0m\u001b[0myd\u001b[0m\u001b[0;34m=\u001b[0m\u001b[0mbalanceepocheddata\u001b[0m\u001b[0;34m(\u001b[0m\u001b[0mxd\u001b[0m\u001b[0;34m,\u001b[0m\u001b[0myd\u001b[0m\u001b[0;34m)\u001b[0m\u001b[0;34m\u001b[0m\u001b[0;34m\u001b[0m\u001b[0m\n\u001b[0;32m----> 4\u001b[0;31m \u001b[0mxd\u001b[0m\u001b[0;34m,\u001b[0m\u001b[0myd\u001b[0m\u001b[0;34m=\u001b[0m\u001b[0mshuffle\u001b[0m\u001b[0;34m(\u001b[0m\u001b[0mxd\u001b[0m\u001b[0;34m,\u001b[0m\u001b[0myd\u001b[0m \u001b[0;34m,\u001b[0m \u001b[0mrandom_state\u001b[0m\u001b[0;34m=\u001b[0m\u001b[0;36m0\u001b[0m\u001b[0;34m)\u001b[0m\u001b[0;34m\u001b[0m\u001b[0;34m\u001b[0m\u001b[0m\n\u001b[0m",
            "\u001b[0;31mNameError\u001b[0m: name 'shuffle' is not defined"
          ]
        }
      ]
    },
    {
      "cell_type": "code",
      "source": [
        "from sklearn.utils import shuffle"
      ],
      "metadata": {
        "id": "opU9kCxuxayq"
      },
      "execution_count": 23,
      "outputs": []
    },
    {
      "cell_type": "code",
      "source": [
        "xd,yd=shuffle(xd,yd , random_state=0)"
      ],
      "metadata": {
        "id": "gXCxQUqyxcCN"
      },
      "execution_count": 24,
      "outputs": []
    },
    {
      "cell_type": "code",
      "source": [
        "del epochsd"
      ],
      "metadata": {
        "id": "NdAB-m96xf4i"
      },
      "execution_count": 25,
      "outputs": []
    },
    {
      "cell_type": "code",
      "source": [
        "cfepoch(xd[:3000,:12,:],yd[:3000])"
      ],
      "metadata": {
        "colab": {
          "base_uri": "https://localhost:8080/",
          "height": 420
        },
        "id": "fa091SoLwb_r",
        "outputId": "069d389b-e40f-457c-871b-2c419aef83e4"
      },
      "execution_count": 32,
      "outputs": [
        {
          "output_type": "stream",
          "name": "stdout",
          "text": [
            "starting 29-06-2022, 09:25:03 (GMT+1)\n",
            "[Vect + LR] mean = 0.624168936709437/1\n"
          ]
        },
        {
          "output_type": "stream",
          "name": "stderr",
          "text": [
            "/usr/local/lib/python3.7/dist-packages/joblib/externals/loky/process_executor.py:705: UserWarning: A worker stopped while some jobs were given to the executor. This can be caused by a too short worker timeout or by a memory leak.\n",
            "  \"timeout or by a memory leak.\", UserWarning\n"
          ]
        },
        {
          "output_type": "stream",
          "name": "stdout",
          "text": [
            "[Vect + RegLDA] mean = 0.6621963896835092/1\n",
            "[Vect + RF] mean = 0.7258504124016419/1\n",
            "current  29-06-2022, 09:27:19 (GMT+1)\n"
          ]
        },
        {
          "output_type": "display_data",
          "data": {
            "text/plain": [
              "<Figure size 576x288 with 1 Axes>"
            ],
            "image/png": "[encoded data removed]"
          },
          "metadata": {
            "needs_background": "light"
          }
        }
      ]
    },
    {
      "cell_type": "code",
      "source": [
        "winavg=[(0.638906130253663+ 0.674570715310079+0.720702031277269)/3,(0.6220761975582181+0.6371639514678767+0.7031216565874238)/3,(0.6309449195304616+0.6511954715492188+0.7058024569577127)/3,(0.624168936709437+0.6621963896835092+0.7258504124016419)/3]"
      ],
      "metadata": {
        "id": "mV2Cey9Gu9PL"
      },
      "execution_count": 33,
      "outputs": []
    },
    {
      "cell_type": "markdown",
      "source": [
        "Average accuracy of Window Sizes"
      ],
      "metadata": {
        "id": "4IOXEwqwj9yf"
      }
    },
    {
      "cell_type": "code",
      "source": [
        "names = ['0-0.7s', '0.3-0.7s', '0.2-0.7s','0-1s']\n",
        "values = winavg\n",
        "plt.title('Average accuracy of Window Sizes')\n",
        "\n",
        "plt.bar(names, values)\n",
        "\n",
        "plt.show()"
      ],
      "metadata": {
        "colab": {
          "base_uri": "https://localhost:8080/",
          "height": 281
        },
        "id": "2YZ4Bgy4w_3a",
        "outputId": "59d91670-b567-4712-efec-5916abd21911"
      },
      "execution_count": 36,
      "outputs": [
        {
          "output_type": "display_data",
          "data": {
            "text/plain": [
              "<Figure size 432x288 with 1 Axes>"
            ],
            "image/png": "[encoded data removed]"
          },
          "metadata": {
            "needs_background": "light"
          }
        }
      ]
    },
    {
      "cell_type": "code",
      "source": [
        "for i in winavg:\n",
        "  print(i)"
      ],
      "metadata": {
        "colab": {
          "base_uri": "https://localhost:8080/"
        },
        "id": "A6O006fTyryq",
        "outputId": "3da79a6e-1b14-4f08-e695-ef72abf295c0"
      },
      "execution_count": 35,
      "outputs": [
        {
          "output_type": "stream",
          "name": "stdout",
          "text": [
            "0.6780596256136704\n",
            "0.6541206018711728\n",
            "0.6626476160124644\n",
            "0.670738579598196\n"
          ]
        }
      ]
    },
    {
      "cell_type": "markdown",
      "source": [
        "# 9 Channel Selection Analysis"
      ],
      "metadata": {
        "id": "ojxOz69Dz-De"
      }
    },
    {
      "cell_type": "markdown",
      "source": [
        "Channel Feature Importances calculated through permutation"
      ],
      "metadata": {
        "id": "3VdQFvnF0xlS"
      }
    },
    {
      "cell_type": "code",
      "source": [
        "# model = RandomForestClassifier(max_depth=None, random_state=0)\n",
        "\n",
        "\n",
        "# y = y2[:600]\n",
        "# data = data3[:600,:,:]"
      ],
      "metadata": {
        "id": "6lyhMX2DjlBf"
      },
      "execution_count": null,
      "outputs": []
    },
    {
      "cell_type": "code",
      "source": [
        "# scaler=StandardScaler()"
      ],
      "metadata": {
        "id": "mVDAf65pjmE_"
      },
      "execution_count": null,
      "outputs": []
    },
    {
      "cell_type": "code",
      "source": [
        "# X_n=np.reshape(data,(600,64*169))"
      ],
      "metadata": {
        "id": "LxSGbnZvjoTW"
      },
      "execution_count": null,
      "outputs": []
    },
    {
      "cell_type": "code",
      "source": [
        "# X_train, X_test, y_train, y_test = train_test_split(X_n, y, test_size = 0.30)"
      ],
      "metadata": {
        "id": "U2v42abFjsxs"
      },
      "execution_count": null,
      "outputs": []
    },
    {
      "cell_type": "code",
      "source": [
        "# model.fit(X_train,y_train)"
      ],
      "metadata": {
        "id": "4uOwfS_sjury"
      },
      "execution_count": null,
      "outputs": []
    },
    {
      "cell_type": "code",
      "source": [
        "# from sklearn.inspection import permutation_importance\n",
        "\n",
        "# result = permutation_importance(\n",
        "#     model, X_test, y_test, n_repeats=5, random_state=42, n_jobs=2\n",
        "# )\n",
        "\n",
        "# forest_importances = pd.Series(np.mean(np.reshape(result.importances_mean,(64,169)),axis=1,keepdims=False), index=feature_names)"
      ],
      "metadata": {
        "id": "_5tCzHO-ivBA"
      },
      "execution_count": null,
      "outputs": []
    },
    {
      "cell_type": "code",
      "source": [
        "# fis=np.mean(np.reshape(result.importances_std,(64,169)),axis=1,keepdims=False)"
      ],
      "metadata": {
        "id": "zs6pKnukjC3X"
      },
      "execution_count": null,
      "outputs": []
    },
    {
      "cell_type": "code",
      "source": [
        "# for i in range(len(fis)):\n",
        "#   print(i, fis[i])"
      ],
      "metadata": {
        "id": "3AMx-A_GjEEf"
      },
      "execution_count": null,
      "outputs": []
    },
    {
      "cell_type": "code",
      "source": [
        "# fig, ax = plt.subplots()\n",
        "# forest_importances.plot.bar(yerr=fis, ax=ax)\n",
        "# ax.set_title(\"Feature importances using permutation on full model\")\n",
        "# ax.set_ylabel(\"Mean accuracy decrease\")\n",
        "# fig.tight_layout()\n",
        "# plt.show()"
      ],
      "metadata": {
        "id": "3i-38-CujG6R"
      },
      "execution_count": null,
      "outputs": []
    },
    {
      "cell_type": "markdown",
      "source": [
        "![Screenshot 2022-06-29 160119.jpg](data:image/jpeg;base64,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)"
      ],
      "metadata": {
        "id": "vt34SEmHjLkp"
      }
    },
    {
      "cell_type": "markdown",
      "source": [
        "loading saved results due to large run time"
      ],
      "metadata": {
        "id": "O2ekkxtUjyE7"
      }
    },
    {
      "cell_type": "code",
      "source": [
        "with open(\"/content/drive/MyDrive/BCIDATASETS/colabdata/c_imp_b.pkl\", 'rb') as f:\n",
        "  res=pickle.load(f)"
      ],
      "metadata": {
        "id": "IuZjcR7Qz7vC"
      },
      "execution_count": 116,
      "outputs": []
    },
    {
      "cell_type": "code",
      "source": [
        "for i in res:\n",
        "  print(i[0]-1,end=',')"
      ],
      "metadata": {
        "colab": {
          "base_uri": "https://localhost:8080/"
        },
        "id": "D8J5iuFe0lqZ",
        "outputId": "1d618561-ad9f-4358-ff28-272f4c02ebce"
      },
      "execution_count": 50,
      "outputs": [
        {
          "output_type": "stream",
          "name": "stdout",
          "text": [
            "14,61,6,8,55,59,27,40,34,47,62,43,15,42,1,58,19,63,7,51,30,0,41,33,54,53,46,5,44,29,21,48,57,3,56,16,20,60,10,39,49,32,26,18,13,38,36,9,52,50,4,37,11,17,45,22,12,25,28,2,24,35,23,31,"
          ]
        }
      ]
    },
    {
      "cell_type": "markdown",
      "source": [
        "### Compare channels based on feature importance scores"
      ],
      "metadata": {
        "id": "ui9_w-xCimA1"
      }
    },
    {
      "cell_type": "markdown",
      "source": [
        "selecting 6 channels from the top and bottom"
      ],
      "metadata": {
        "id": "zDmoPkSV1eZi"
      }
    },
    {
      "cell_type": "code",
      "source": [
        "epochsa.get_data().shape"
      ],
      "metadata": {
        "colab": {
          "base_uri": "https://localhost:8080/"
        },
        "id": "-j8J96D209cZ",
        "outputId": "708aefd8-e3bc-4fac-b897-6c4644077e29"
      },
      "execution_count": 46,
      "outputs": [
        {
          "output_type": "stream",
          "name": "stdout",
          "text": [
            "Using data from preloaded Raw for 15300 events and 169 original time points ...\n",
            "0 bad epochs dropped\n"
          ]
        },
        {
          "output_type": "execute_result",
          "data": {
            "text/plain": [
              "(15300, 66, 169)"
            ]
          },
          "metadata": {},
          "execution_count": 46
        }
      ]
    },
    {
      "cell_type": "code",
      "source": [
        "# 14,61,6,8,55,59"
      ],
      "metadata": {
        "id": "fkgPn1Or2erR"
      },
      "execution_count": null,
      "outputs": []
    },
    {
      "cell_type": "code",
      "source": [
        "# 28,2,24,35,23,31"
      ],
      "metadata": {
        "id": "RO2xbM7G3Qcb"
      },
      "execution_count": null,
      "outputs": []
    },
    {
      "cell_type": "code",
      "source": [
        "t=[6,8,14,55,59,61]"
      ],
      "metadata": {
        "id": "VubSZTt447GJ"
      },
      "execution_count": 62,
      "outputs": []
    },
    {
      "cell_type": "code",
      "source": [
        "etop=np.zeros(shape=(15300,6,169))"
      ],
      "metadata": {
        "id": "NUEpDuiT4Wsh"
      },
      "execution_count": 60,
      "outputs": []
    },
    {
      "cell_type": "code",
      "source": [
        "ed=epochsa.get_data()"
      ],
      "metadata": {
        "colab": {
          "base_uri": "https://localhost:8080/"
        },
        "id": "nciSeNJs6bzi",
        "outputId": "c0919030-865b-49c4-8c8b-f987da980a01"
      },
      "execution_count": 25,
      "outputs": [
        {
          "output_type": "stream",
          "name": "stdout",
          "text": [
            "Using data from preloaded Raw for 15300 events and 169 original time points ...\n",
            "0 bad epochs dropped\n"
          ]
        }
      ]
    },
    {
      "cell_type": "code",
      "source": [
        "for i in range(15300):\n",
        "  for j in range(6):\n",
        "    for k in range(169):\n",
        "      etop[i][j][k]=ed[i][t[j]][k]"
      ],
      "metadata": {
        "id": "xCFuozAC4rFJ"
      },
      "execution_count": 66,
      "outputs": []
    },
    {
      "cell_type": "code",
      "source": [
        "etop.shape"
      ],
      "metadata": {
        "colab": {
          "base_uri": "https://localhost:8080/"
        },
        "id": "R1UHFP5u32PJ",
        "outputId": "9138d49a-c9bc-4342-f84a-7a4e4c73c3cb"
      },
      "execution_count": 67,
      "outputs": [
        {
          "output_type": "execute_result",
          "data": {
            "text/plain": [
              "(15300, 6, 169)"
            ]
          },
          "metadata": {},
          "execution_count": 67
        }
      ]
    },
    {
      "cell_type": "code",
      "source": [
        "ebot=np.zeros(shape=(15300,6,169))"
      ],
      "metadata": {
        "id": "XHQ6l6z43Ww5"
      },
      "execution_count": 68,
      "outputs": []
    },
    {
      "cell_type": "code",
      "source": [
        "b=[2,23,24,28,31,35]"
      ],
      "metadata": {
        "id": "M90e_Pcp6xPj"
      },
      "execution_count": 69,
      "outputs": []
    },
    {
      "cell_type": "code",
      "source": [
        "for i in range(15300):\n",
        "  for j in range(6):\n",
        "    for k in range(169):\n",
        "      ebot[i][j][k]=ed[i][b[j]][k]"
      ],
      "metadata": {
        "id": "WpPzt1KW64kZ"
      },
      "execution_count": 70,
      "outputs": []
    },
    {
      "cell_type": "code",
      "source": [
        "ebot.shape"
      ],
      "metadata": {
        "colab": {
          "base_uri": "https://localhost:8080/"
        },
        "id": "_7wtPm3n33SS",
        "outputId": "791aa35d-77e9-4ef2-81c7-7842755fce27"
      },
      "execution_count": 71,
      "outputs": [
        {
          "output_type": "execute_result",
          "data": {
            "text/plain": [
              "(15300, 6, 169)"
            ]
          },
          "metadata": {},
          "execution_count": 71
        }
      ]
    },
    {
      "cell_type": "code",
      "source": [
        "def balanceepocheddata(data,labels):\n",
        "  over = SMOTE(sampling_strategy=0.6,random_state=0)\n",
        "  under = RandomUnderSampler(sampling_strategy=0.6,random_state=0)\n",
        "\n",
        "  steps = [('o', over), ('u', under)]\n",
        "  pipeline = Pipeline(steps=steps)\n",
        "  \n",
        "  data2=np.moveaxis(data,1,0)\n",
        "  data2=data2[:6,:,:]\n",
        "  data3=np.empty((6,20400,169))\n",
        "  for i in range(6):\n",
        "    x2,y2 = pipeline.fit_resample(data2[i], labels)\n",
        "    data3[i]=x2\n",
        "  \n",
        "  data3=np.moveaxis(data3,1,0)\n",
        "\n",
        "  return data3,y2"
      ],
      "metadata": {
        "id": "bKTZQfLY7Xeo"
      },
      "execution_count": 78,
      "outputs": []
    },
    {
      "cell_type": "code",
      "source": [
        "xa = etop\n",
        "ya = epochsa.events.T[2]\n",
        "xa,ya=balanceepocheddata(xa,ya)\n",
        "xa,ya=shuffle(xa ,ya , random_state=0)"
      ],
      "metadata": {
        "id": "YZCzxK564BPg"
      },
      "execution_count": 79,
      "outputs": []
    },
    {
      "cell_type": "code",
      "source": [
        "cfepoch(xa[:3000],ya[:3000])"
      ],
      "metadata": {
        "colab": {
          "base_uri": "https://localhost:8080/",
          "height": 366
        },
        "id": "o2Odd-fP4EoA",
        "outputId": "cf112e09-64e2-4ffc-c8e9-f550789dca8d"
      },
      "execution_count": 80,
      "outputs": [
        {
          "output_type": "stream",
          "name": "stdout",
          "text": [
            "starting 29-06-2022, 10:07:10 (GMT+1)\n",
            "[Vect + LR] mean = 0.6701287664372597/1\n",
            "[Vect + RegLDA] mean = 0.6930715006563523/1\n",
            "[Vect + RF] mean = 0.7125837512994257/1\n",
            "current  29-06-2022, 10:08:05 (GMT+1)\n"
          ]
        },
        {
          "output_type": "display_data",
          "data": {
            "text/plain": [
              "<Figure size 576x288 with 1 Axes>"
            ],
            "image/png": "[encoded data removed]"
          },
          "metadata": {
            "needs_background": "light"
          }
        }
      ]
    },
    {
      "cell_type": "code",
      "source": [
        "xb = ebot\n",
        "yb = epochsa.events.T[2]\n",
        "xb,yb=balanceepocheddata(xb,yb)\n",
        "xb,yb=shuffle(xb ,yb , random_state=0)"
      ],
      "metadata": {
        "id": "bFtIAWuh7eLQ"
      },
      "execution_count": 82,
      "outputs": []
    },
    {
      "cell_type": "code",
      "source": [
        "cfepoch(xb[:3000],yb[:3000])"
      ],
      "metadata": {
        "colab": {
          "base_uri": "https://localhost:8080/",
          "height": 366
        },
        "id": "jVR4g7sr1mb6",
        "outputId": "ebe7c170-2f91-4f1a-c2e9-0b6880d00fd5"
      },
      "execution_count": 83,
      "outputs": [
        {
          "output_type": "stream",
          "name": "stdout",
          "text": [
            "starting 29-06-2022, 10:08:18 (GMT+1)\n",
            "[Vect + LR] mean = 0.6295017034805636/1\n",
            "[Vect + RegLDA] mean = 0.648726373217795/1\n",
            "[Vect + RF] mean = 0.6960315352571155/1\n",
            "current  29-06-2022, 10:08:57 (GMT+1)\n"
          ]
        },
        {
          "output_type": "display_data",
          "data": {
            "text/plain": [
              "<Figure size 576x288 with 1 Axes>"
            ],
            "image/png": "[encoded data removed]"
          },
          "metadata": {
            "needs_background": "light"
          }
        }
      ]
    },
    {
      "cell_type": "markdown",
      "source": [
        "average acc first channels"
      ],
      "metadata": {
        "id": "RPI9V7497_oK"
      }
    },
    {
      "cell_type": "code",
      "source": [
        "def balanceepocheddata(data,labels):\n",
        "  over = SMOTE(sampling_strategy=0.6,random_state=0)\n",
        "  under = RandomUnderSampler(sampling_strategy=0.6,random_state=0)\n",
        "\n",
        "  steps = [('o', over), ('u', under)]\n",
        "  pipeline = Pipeline(steps=steps)\n",
        "  \n",
        "  data2=np.moveaxis(data,1,0)\n",
        "  data2=data2[:64,:,:]\n",
        "  data3=np.empty((64,20400,169))\n",
        "  for i in range(64):\n",
        "    x2,y2 = pipeline.fit_resample(data2[i], labels)\n",
        "    data3[i]=x2\n",
        "  \n",
        "  data3=np.moveaxis(data3,1,0)\n",
        "\n",
        "  return data3,y2"
      ],
      "metadata": {
        "id": "Mo4cwms88S7x"
      },
      "execution_count": 84,
      "outputs": []
    },
    {
      "cell_type": "code",
      "source": [
        "xc = epochsa.get_data()\n",
        "yc = epochsa.events.T[2]\n",
        "xc,yc=balanceepocheddata(xc,yc)\n",
        "xc,yc=shuffle(xc ,yc , random_state=0)"
      ],
      "metadata": {
        "colab": {
          "base_uri": "https://localhost:8080/"
        },
        "id": "99Jmlhoj8HtY",
        "outputId": "85cd3e62-f5e6-4757-862c-c1637507d2c3"
      },
      "execution_count": 85,
      "outputs": [
        {
          "output_type": "stream",
          "name": "stdout",
          "text": [
            "Using data from preloaded Raw for 15300 events and 169 original time points ...\n"
          ]
        }
      ]
    },
    {
      "cell_type": "code",
      "source": [
        "cfepoch(xc[:3000,:6,:],yc[:3000])"
      ],
      "metadata": {
        "colab": {
          "base_uri": "https://localhost:8080/",
          "height": 366
        },
        "id": "DFOTbWYA8Cpf",
        "outputId": "af9ea664-eb08-4066-99a1-f7aae176bb89"
      },
      "execution_count": 86,
      "outputs": [
        {
          "output_type": "stream",
          "name": "stdout",
          "text": [
            "starting 29-06-2022, 10:11:52 (GMT+1)\n",
            "[Vect + LR] mean = 0.6351622669570298/1\n",
            "[Vect + RegLDA] mean = 0.655840775785536/1\n",
            "[Vect + RF] mean = 0.7161879974808217/1\n",
            "current  29-06-2022, 10:12:25 (GMT+1)\n"
          ]
        },
        {
          "output_type": "display_data",
          "data": {
            "text/plain": [
              "<Figure size 576x288 with 1 Axes>"
            ],
            "image/png": "[encoded data removed]"
          },
          "metadata": {
            "needs_background": "light"
          }
        }
      ]
    },
    {
      "cell_type": "code",
      "source": [
        "avgcn=[(0.6701287664372597+0.6930715006563523+0.7125837512994257)/3,(0.6295017034805636+0.648726373217795+0.6960315352571155)/3,(0.6351622669570298+0.655840775785536+0.7161879974808217)/3]"
      ],
      "metadata": {
        "id": "ky9m_1YZ-RKx"
      },
      "execution_count": 92,
      "outputs": []
    },
    {
      "cell_type": "code",
      "source": [
        "for i in avgcn:\n",
        "  print(i)"
      ],
      "metadata": {
        "colab": {
          "base_uri": "https://localhost:8080/"
        },
        "id": "8eaC_ynR_W8R",
        "outputId": "2ecf9bd9-d5a0-4c95-9482-097d1d58072d"
      },
      "execution_count": 93,
      "outputs": [
        {
          "output_type": "stream",
          "name": "stdout",
          "text": [
            "0.6919280061310126\n",
            "0.6580865373184914\n",
            "0.6690636800744625\n"
          ]
        }
      ]
    },
    {
      "cell_type": "markdown",
      "source": [
        "Average accuracy of Channel sets"
      ],
      "metadata": {
        "id": "u9PvPlFfkCkQ"
      }
    },
    {
      "cell_type": "code",
      "source": [
        "names = ['best 6', 'worst 6', 'first 6']\n",
        "values = avgcn\n",
        "plt.title('Average accuracy of Channel sets')\n",
        "\n",
        "plt.bar(names, values)\n",
        "\n",
        "plt.show()"
      ],
      "metadata": {
        "colab": {
          "base_uri": "https://localhost:8080/",
          "height": 281
        },
        "id": "5gxQDPc--_Mv",
        "outputId": "5ca618ea-ad03-4893-b695-fda297a9dea8"
      },
      "execution_count": 94,
      "outputs": [
        {
          "output_type": "display_data",
          "data": {
            "text/plain": [
              "<Figure size 432x288 with 1 Axes>"
            ],
            "image/png": "[encoded data removed]"
          },
          "metadata": {
            "needs_background": "light"
          }
        }
      ]
    },
    {
      "cell_type": "markdown",
      "source": [
        "### number of channels"
      ],
      "metadata": {
        "id": "E2HrfgrfV1bK"
      }
    },
    {
      "cell_type": "markdown",
      "source": [
        "12"
      ],
      "metadata": {
        "id": "Rc8u8HrMfG4Y"
      }
    },
    {
      "cell_type": "code",
      "source": [
        "# 14,61,6,8,55,59,27,40,34,47,62,43,15,42,1,58,19,63,7,51,30,0,41,33,54,53,46,5,44,29,21,48,57,3,56,16,20,60,10,39,49,32,26,18,13,38,36,9,52,50,4,37,11,17,45,22,12,25,28,2,24,35,23,31,"
      ],
      "metadata": {
        "id": "1y_NV7CmWgUS"
      },
      "execution_count": null,
      "outputs": []
    },
    {
      "cell_type": "code",
      "source": [
        "etop=np.zeros(shape=(15300,12,169))"
      ],
      "metadata": {
        "id": "3b1c0PRbfPMg"
      },
      "execution_count": 20,
      "outputs": []
    },
    {
      "cell_type": "code",
      "source": [
        "t0=[14,61,6,8,55,59,27,40,34,47,62,43]"
      ],
      "metadata": {
        "id": "N_NS5pQXfT_B"
      },
      "execution_count": 21,
      "outputs": []
    },
    {
      "cell_type": "code",
      "source": [
        "for i in range(15300):\n",
        "  for j in range(12):\n",
        "    for k in range(169):\n",
        "      etop[i][j][k]=ed[i][t0[j]][k]"
      ],
      "metadata": {
        "id": "DRYCMAg0fGig"
      },
      "execution_count": 26,
      "outputs": []
    },
    {
      "cell_type": "code",
      "source": [
        "def balanceepocheddata(data,labels):\n",
        "  over = SMOTE(sampling_strategy=0.6,random_state=0)\n",
        "  under = RandomUnderSampler(sampling_strategy=0.6,random_state=0)\n",
        "\n",
        "  steps = [('o', over), ('u', under)]\n",
        "  pipeline = Pipeline(steps=steps)\n",
        "  \n",
        "  data2=np.moveaxis(data,1,0)\n",
        "  data2=data2[:12,:,:]\n",
        "  data3=np.empty((12,20400,169))\n",
        "  for i in range(12):\n",
        "    x2,y2 = pipeline.fit_resample(data2[i], labels)\n",
        "    data3[i]=x2\n",
        "  \n",
        "  data3=np.moveaxis(data3,1,0)\n",
        "\n",
        "  return data3,y2"
      ],
      "metadata": {
        "id": "KRB8v7UOfZNa"
      },
      "execution_count": 27,
      "outputs": []
    },
    {
      "cell_type": "code",
      "source": [
        "xe = etop\n",
        "ye = epochsa.events.T[2]\n",
        "xe,ye=balanceepocheddata(xe,ye)\n",
        "xe,ye=shuffle(xe ,ye , random_state=0)"
      ],
      "metadata": {
        "id": "DDMmtC9ofa7y"
      },
      "execution_count": 28,
      "outputs": []
    },
    {
      "cell_type": "code",
      "source": [
        "del etop"
      ],
      "metadata": {
        "id": "tmfyd0f7gRmi"
      },
      "execution_count": 29,
      "outputs": []
    },
    {
      "cell_type": "code",
      "source": [
        "cfepoch(xe[:3000,:12,:],ye[:3000])"
      ],
      "metadata": {
        "colab": {
          "base_uri": "https://localhost:8080/",
          "height": 366
        },
        "id": "Fn6Fmwxsfjqo",
        "outputId": "74d434ff-63d5-4bb6-b161-9002431a3d44"
      },
      "execution_count": 35,
      "outputs": [
        {
          "output_type": "stream",
          "name": "stdout",
          "text": [
            "starting 29-06-2022, 12:52:13 (GMT+1)\n",
            "[Vect + LR] mean = 0.669105919310413/1\n",
            "[Vect + RegLDA] mean = 0.7079103718823271/1\n",
            "[Vect + RF] mean = 0.710045603199053/1\n",
            "current  29-06-2022, 12:53:32 (GMT+1)\n"
          ]
        },
        {
          "output_type": "display_data",
          "data": {
            "text/plain": [
              "<Figure size 576x288 with 1 Axes>"
            ],
            "image/png": "[encoded data removed]"
          },
          "metadata": {
            "needs_background": "light"
          }
        }
      ]
    },
    {
      "cell_type": "markdown",
      "source": [
        "24"
      ],
      "metadata": {
        "id": "nTdy53kDcnSI"
      }
    },
    {
      "cell_type": "code",
      "source": [
        "etop=np.zeros(shape=(15300,24,169))"
      ],
      "metadata": {
        "id": "DRvm-NPdVyAq"
      },
      "execution_count": 135,
      "outputs": []
    },
    {
      "cell_type": "code",
      "source": [
        "t2=[14,61,6,8,55,59,27,40,34,47,62,43,15,42,1,58,19,63,7,51,30,0,41,33]"
      ],
      "metadata": {
        "id": "x1kiy8q3WuIK"
      },
      "execution_count": 122,
      "outputs": []
    },
    {
      "cell_type": "code",
      "source": [
        "for i in range(15300):\n",
        "  for j in range(24):\n",
        "    for k in range(169):\n",
        "      etop[i][j][k]=ed[i][t2[j]][k]"
      ],
      "metadata": {
        "id": "f-727ySgXP5x"
      },
      "execution_count": 136,
      "outputs": []
    },
    {
      "cell_type": "code",
      "source": [
        "def balanceepocheddata(data,labels):\n",
        "  over = SMOTE(sampling_strategy=0.6,random_state=0)\n",
        "  under = RandomUnderSampler(sampling_strategy=0.6,random_state=0)\n",
        "\n",
        "  steps = [('o', over), ('u', under)]\n",
        "  pipeline = Pipeline(steps=steps)\n",
        "  \n",
        "  data2=np.moveaxis(data,1,0)\n",
        "  data2=data2[:24,:,:]\n",
        "  data3=np.empty((24,20400,169))\n",
        "  for i in range(24):\n",
        "    x2,y2 = pipeline.fit_resample(data2[i], labels)\n",
        "    data3[i]=x2\n",
        "  \n",
        "  data3=np.moveaxis(data3,1,0)\n",
        "\n",
        "  return data3,y2"
      ],
      "metadata": {
        "id": "SPWDtUSSX3fi"
      },
      "execution_count": 129,
      "outputs": []
    },
    {
      "cell_type": "code",
      "source": [
        "xd = etop\n",
        "yd = epochsa.events.T[2]\n",
        "xd,yd=balanceepocheddata(xd,yd)\n",
        "xd,yd=shuffle(xd ,yd , random_state=0)"
      ],
      "metadata": {
        "id": "K-90KZPhXn2k"
      },
      "execution_count": 137,
      "outputs": []
    },
    {
      "cell_type": "code",
      "source": [
        "cfepoch(xd[:3000,:24,:],yd[:3000])"
      ],
      "metadata": {
        "colab": {
          "base_uri": "https://localhost:8080/",
          "height": 420
        },
        "id": "hrOlMmxUYcaZ",
        "outputId": "011f1f38-1c9d-40fb-a680-b6881bceaa42"
      },
      "execution_count": 138,
      "outputs": [
        {
          "output_type": "stream",
          "name": "stdout",
          "text": [
            "starting 29-06-2022, 12:24:14 (GMT+1)\n",
            "[Vect + LR] mean = 0.6905098301072168/1\n"
          ]
        },
        {
          "output_type": "stream",
          "name": "stderr",
          "text": [
            "/usr/local/lib/python3.7/dist-packages/joblib/externals/loky/process_executor.py:705: UserWarning: A worker stopped while some jobs were given to the executor. This can be caused by a too short worker timeout or by a memory leak.\n",
            "  \"timeout or by a memory leak.\", UserWarning\n"
          ]
        },
        {
          "output_type": "stream",
          "name": "stdout",
          "text": [
            "[Vect + RegLDA] mean = 0.7327622183945549/1\n",
            "[Vect + RF] mean = 0.7160802494897145/1\n",
            "current  29-06-2022, 12:29:09 (GMT+1)\n"
          ]
        },
        {
          "output_type": "display_data",
          "data": {
            "text/plain": [
              "<Figure size 576x288 with 1 Axes>"
            ],
            "image/png": "[encoded data removed]"
          },
          "metadata": {
            "needs_background": "light"
          }
        }
      ]
    },
    {
      "cell_type": "code",
      "source": [
        "del etop\n",
        "del xd\n",
        "del yd"
      ],
      "metadata": {
        "id": "pw5-Se5Pb3W9"
      },
      "execution_count": 139,
      "outputs": []
    },
    {
      "cell_type": "markdown",
      "source": [
        "Average accuracy of num of channels"
      ],
      "metadata": {
        "id": "dgyu2oC3kJcg"
      }
    },
    {
      "cell_type": "code",
      "source": [
        "names = ['best 6','best 12','best 24']\n",
        "values = [0.6919280061310126,(0.669105919310413+0.7079103718823271+0.710045603199053)/3,(0.6905098301072168+0.7327622183945549+0.7160802494897145)/3]\n",
        "plt.title('Average accuracy of num of channels')\n",
        "\n",
        "plt.bar(names, values)\n",
        "\n",
        "plt.show()"
      ],
      "metadata": {
        "colab": {
          "base_uri": "https://localhost:8080/",
          "height": 281
        },
        "id": "LGTWdJa7epu8",
        "outputId": "7351dca5-a261-4bb8-aae2-f8be7d838ccc"
      },
      "execution_count": 37,
      "outputs": [
        {
          "output_type": "display_data",
          "data": {
            "text/plain": [
              "<Figure size 432x288 with 1 Axes>"
            ],
            "image/png": "[encoded data removed]"
          },
          "metadata": {
            "needs_background": "light"
          }
        }
      ]
    },
    {
      "cell_type": "markdown",
      "source": [
        "48 (crashed due to lack of ram)"
      ],
      "metadata": {
        "id": "j6OkPtmPec4K"
      }
    }
  ]
}